{
 "cells": [
  {
   "cell_type": "code",
   "execution_count": null,
   "metadata": {},
   "outputs": [],
   "source": [
    "import itertools\n",
    "import json\n",
    "\n",
    "models = ['google/mt5-small']\n",
    "datasets = ['TEP++']\n",
    "\n",
    "somelists = [\n",
    "   models,\n",
    "   datasets\n",
    "]\n",
    "# config_path = './Persian-MT/server_config.json'\n",
    "config_path = './server_config.json'\n",
    "\n",
    "for element in itertools.product(*somelists):\n",
    "    with open(config_path, 'r+') as f:\n",
    "        sg = json.load(f)\n",
    "        sg['model_repo'] = element[0]\n",
    "        data_dir = sg['data_dir'].split('/')[:-1]\n",
    "        data_dir.append(element[1])\n",
    "        sg['data_dir'] = '/'.join(data_dir)\n",
    "\n",
    "    with open(config_path, 'w') as f:\n",
    "        sg = json.dumps(sg)\n",
    "        f.write(sg)\n",
    "    exec(open(\"./Persian-MT.py\").read())\n",
    "    # print(\"_________________finish {}______________\".format(element ))"
   ]
  }
 ],
 "metadata": {
  "language_info": {
   "name": "python"
  },
  "orig_nbformat": 4
 },
 "nbformat": 4,
 "nbformat_minor": 2
}
