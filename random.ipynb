{
 "cells": [
  {
   "cell_type": "code",
   "execution_count": 10,
   "metadata": {},
   "outputs": [
    {
     "name": "stderr",
     "output_type": "stream",
     "text": [
      "Downloading:  23%|██▎       | 1.06G/4.58G [1:09:13<3:49:27, 274kB/s]\n",
      "Downloading: 100%|██████████| 4.58G/4.58G [47:18<00:00, 1.73MB/s]  \n"
     ]
    }
   ],
   "source": [
    "from transformers import AdamW, AutoModelForSeq2SeqLM, AutoTokenizer\n",
    "\n",
    "tokenizer = AutoTokenizer.from_pretrained('google/mt5-large')\n",
    "model = AutoModelForSeq2SeqLM.from_pretrained('google/mt5-large')\n",
    "\n",
    "tokenizer.save_pretrained('./model-and-tokenizer-large/')\n",
    "model.save_pretrained('./model-and-tokenizer-large/')\n"
   ]
  },
  {
   "cell_type": "code",
   "execution_count": 4,
   "metadata": {},
   "outputs": [
    {
     "name": "stderr",
     "output_type": "stream",
     "text": [
      "\u001b[34m\u001b[1mwandb\u001b[0m: \u001b[33mWARNING\u001b[0m Calling wandb.login() after wandb.init() has no effect.\n"
     ]
    },
    {
     "data": {
      "text/html": [
       "Finishing last run (ID:2itgwwf4) before initializing another..."
      ],
      "text/plain": [
       "<IPython.core.display.HTML object>"
      ]
     },
     "metadata": {},
     "output_type": "display_data"
    },
    {
     "data": {
      "text/html": [
       "Waiting for W&B process to finish... <strong style=\"color:green\">(success).</strong>"
      ],
      "text/plain": [
       "<IPython.core.display.HTML object>"
      ]
     },
     "metadata": {},
     "output_type": "display_data"
    },
    {
     "data": {
      "text/html": [
       "<style>\n",
       "    table.wandb td:nth-child(1) { padding: 0 10px; text-align: left ; width: auto;} td:nth-child(2) {text-align: left ; width: 100%}\n",
       "    .wandb-row { display: flex; flex-direction: row; flex-wrap: wrap; justify-content: flex-start; width: 100% }\n",
       "    .wandb-col { display: flex; flex-direction: column; flex-basis: 100%; flex: 1; padding: 10px; }\n",
       "    </style>\n",
       "<div class=\"wandb-row\"><div class=\"wandb-col\"><h3>Run history:</h3><br/><table class=\"wandb\"><tr><td>train_loss</td><td>█▄▂▁</td></tr><tr><td>val_loss</td><td>█▂▁▁</td></tr></table><br/></div><div class=\"wandb-col\"><h3>Run summary:</h3><br/><table class=\"wandb\"><tr><td>train_loss</td><td>1.29852</td></tr><tr><td>val_loss</td><td>1.57224</td></tr></table><br/></div></div>"
      ],
      "text/plain": [
       "<IPython.core.display.HTML object>"
      ]
     },
     "metadata": {},
     "output_type": "display_data"
    },
    {
     "data": {
      "text/html": [
       "Synced <strong style=\"color:#cdcd00\">solar-hill-4</strong>: <a href=\"https://wandb.ai/persian-mt/google-mt5-small_Mizan_4/runs/2itgwwf4\" target=\"_blank\">https://wandb.ai/persian-mt/google-mt5-small_Mizan_4/runs/2itgwwf4</a><br/>Synced 6 W&B file(s), 0 media file(s), 0 artifact file(s) and 0 other file(s)"
      ],
      "text/plain": [
       "<IPython.core.display.HTML object>"
      ]
     },
     "metadata": {},
     "output_type": "display_data"
    },
    {
     "data": {
      "text/html": [
       "Find logs at: <code>./outs/google-mt5-small_Mizan_4_baseline\\wandb\\run-20220724_113025-2itgwwf4\\logs</code>"
      ],
      "text/plain": [
       "<IPython.core.display.HTML object>"
      ]
     },
     "metadata": {},
     "output_type": "display_data"
    },
    {
     "data": {
      "text/html": [
       "Successfully finished last run (ID:2itgwwf4). Initializing new run:<br/>"
      ],
      "text/plain": [
       "<IPython.core.display.HTML object>"
      ]
     },
     "metadata": {},
     "output_type": "display_data"
    },
    {
     "data": {
      "text/html": [
       "wandb version 0.12.21 is available!  To upgrade, please run:\n",
       " $ pip install wandb --upgrade"
      ],
      "text/plain": [
       "<IPython.core.display.HTML object>"
      ]
     },
     "metadata": {},
     "output_type": "display_data"
    },
    {
     "data": {
      "text/html": [
       "Tracking run with wandb version 0.12.19"
      ],
      "text/plain": [
       "<IPython.core.display.HTML object>"
      ]
     },
     "metadata": {},
     "output_type": "display_data"
    },
    {
     "data": {
      "text/html": [
       "Run data is saved locally in <code>./outs/google-mt5-small_Mizan_4_baseline\\wandb\\run-20220724_113636-2yv94do8</code>"
      ],
      "text/plain": [
       "<IPython.core.display.HTML object>"
      ]
     },
     "metadata": {},
     "output_type": "display_data"
    },
    {
     "data": {
      "text/html": [
       "Syncing run <strong><a href=\"https://wandb.ai/persian-mt/google-mt5-small_Mizan_4/runs/2yv94do8\" target=\"_blank\">ethereal-spaceship-5</a></strong> to <a href=\"https://wandb.ai/persian-mt/google-mt5-small_Mizan_4\" target=\"_blank\">Weights & Biases</a> (<a href=\"https://wandb.me/run\" target=\"_blank\">docs</a>)<br/>"
      ],
      "text/plain": [
       "<IPython.core.display.HTML object>"
      ]
     },
     "metadata": {},
     "output_type": "display_data"
    }
   ],
   "source": [
    "import wandb\n",
    "import pandas as pd\n",
    "import os\n",
    "\n",
    "model_dir='./outs/google-mt5-small_Mizan_4_baseline'\n",
    "wandb.login(key='e17de26c63319152119eefbc833bb10b2ceb7bfd')\n",
    "#os.makedirs('./', exist_ok=True)\n",
    "wandb.init(project='google-mt5-small_Mizan_4', entity=\"persian-mt\", dir=model_dir)\n",
    "history = pd.read_csv(model_dir+'/history.csv')\n",
    "train_loss = pd.read_csv(model_dir+'/total_train_losss.csv')\n",
    "val_loss = pd.read_csv(model_dir+'/total_dev_losss.csv')\n",
    "\n",
    "\n",
    "for i, row in history.iterrows():\n",
    "    wandb.log({\"train_loss\": float(row['train_loss']), \"val_loss\":float(row['val_loss'])})\n",
    "\n",
    "for i, row in train_loss.iterrows():\n",
    "    wandb.log({\"step_train_loss\": float(row['total_train_losss'])})\n",
    "\n",
    "for i, row in val_loss.iterrows():\n",
    "    wandb.log({\"step_dev_loss\": float(row['total_dev_losss'])})\n"
   ]
  }
 ],
 "metadata": {
  "interpreter": {
   "hash": "008b0f992822207dc3371086db865f2e3d549e6d0b94b092d243da12ff3366e0"
  },
  "kernelspec": {
   "display_name": "Python 3.8.12 64-bit ('AI': conda)",
   "name": "python3"
  },
  "language_info": {
   "codemirror_mode": {
    "name": "ipython",
    "version": 3
   },
   "file_extension": ".py",
   "mimetype": "text/x-python",
   "name": "python",
   "nbconvert_exporter": "python",
   "pygments_lexer": "ipython3",
   "version": "3.8.12"
  },
  "orig_nbformat": 4,
  "vscode": {
   "interpreter": {
    "hash": "8a0a98d9bd9245fe8b14280275e92449e09e1a03a1208e9a8270c5576b744648"
   }
  }
 },
 "nbformat": 4,
 "nbformat_minor": 2
}
