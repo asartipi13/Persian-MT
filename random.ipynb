{
 "cells": [
  {
   "cell_type": "code",
   "execution_count": 1,
   "metadata": {},
   "outputs": [],
   "source": [
    "import pandas as pd"
   ]
  },
  {
   "cell_type": "code",
   "execution_count": 2,
   "metadata": {},
   "outputs": [],
   "source": [
    "df = pd.read_csv(\"./data/Mizan/fa-en.csv\", nrows=50)"
   ]
  },
  {
   "cell_type": "code",
   "execution_count": 3,
   "metadata": {},
   "outputs": [],
   "source": [
    "df[:15].to_csv('./data/Mizan/train.csv', index=False)\n",
    "df[15:35].to_csv('./data/Mizan/dev.csv', index=False)\n",
    "df[35:49].to_csv('./data/Mizan/test.csv', index=False)\n"
   ]
  },
  {
   "cell_type": "code",
   "execution_count": 10,
   "metadata": {},
   "outputs": [
    {
     "name": "stderr",
     "output_type": "stream",
     "text": [
      "Downloading:  23%|██▎       | 1.06G/4.58G [1:09:13<3:49:27, 274kB/s]\n",
      "Downloading: 100%|██████████| 4.58G/4.58G [47:18<00:00, 1.73MB/s]  \n"
     ]
    }
   ],
   "source": [
    "from transformers import AdamW, AutoModelForSeq2SeqLM, AutoTokenizer\n",
    "\n",
    "tokenizer = AutoTokenizer.from_pretrained('google/mt5-large')\n",
    "model = AutoModelForSeq2SeqLM.from_pretrained('google/mt5-large')\n",
    "\n",
    "tokenizer.save_pretrained('./model-and-tokenizer-large/')\n",
    "model.save_pretrained('./model-and-tokenizer-large/')\n"
   ]
  },
  {
   "cell_type": "code",
   "execution_count": 4,
   "metadata": {},
   "outputs": [
    {
     "name": "stderr",
     "output_type": "stream",
     "text": [
      "\u001b[34m\u001b[1mwandb\u001b[0m: \u001b[33mWARNING\u001b[0m Calling wandb.login() after wandb.init() has no effect.\n"
     ]
    },
    {
     "data": {
      "text/html": [
       "Finishing last run (ID:2itgwwf4) before initializing another..."
      ],
      "text/plain": [
       "<IPython.core.display.HTML object>"
      ]
     },
     "metadata": {},
     "output_type": "display_data"
    },
    {
     "data": {
      "text/html": [
       "Waiting for W&B process to finish... <strong style=\"color:green\">(success).</strong>"
      ],
      "text/plain": [
       "<IPython.core.display.HTML object>"
      ]
     },
     "metadata": {},
     "output_type": "display_data"
    },
    {
     "data": {
      "text/html": [
       "<style>\n",
       "    table.wandb td:nth-child(1) { padding: 0 10px; text-align: left ; width: auto;} td:nth-child(2) {text-align: left ; width: 100%}\n",
       "    .wandb-row { display: flex; flex-direction: row; flex-wrap: wrap; justify-content: flex-start; width: 100% }\n",
       "    .wandb-col { display: flex; flex-direction: column; flex-basis: 100%; flex: 1; padding: 10px; }\n",
       "    </style>\n",
       "<div class=\"wandb-row\"><div class=\"wandb-col\"><h3>Run history:</h3><br/><table class=\"wandb\"><tr><td>train_loss</td><td>█▄▂▁</td></tr><tr><td>val_loss</td><td>█▂▁▁</td></tr></table><br/></div><div class=\"wandb-col\"><h3>Run summary:</h3><br/><table class=\"wandb\"><tr><td>train_loss</td><td>1.29852</td></tr><tr><td>val_loss</td><td>1.57224</td></tr></table><br/></div></div>"
      ],
      "text/plain": [
       "<IPython.core.display.HTML object>"
      ]
     },
     "metadata": {},
     "output_type": "display_data"
    },
    {
     "data": {
      "text/html": [
       "Synced <strong style=\"color:#cdcd00\">solar-hill-4</strong>: <a href=\"https://wandb.ai/persian-mt/google-mt5-small_Mizan_4/runs/2itgwwf4\" target=\"_blank\">https://wandb.ai/persian-mt/google-mt5-small_Mizan_4/runs/2itgwwf4</a><br/>Synced 6 W&B file(s), 0 media file(s), 0 artifact file(s) and 0 other file(s)"
      ],
      "text/plain": [
       "<IPython.core.display.HTML object>"
      ]
     },
     "metadata": {},
     "output_type": "display_data"
    },
    {
     "data": {
      "text/html": [
       "Find logs at: <code>./outs/google-mt5-small_Mizan_4_baseline\\wandb\\run-20220724_113025-2itgwwf4\\logs</code>"
      ],
      "text/plain": [
       "<IPython.core.display.HTML object>"
      ]
     },
     "metadata": {},
     "output_type": "display_data"
    },
    {
     "data": {
      "text/html": [
       "Successfully finished last run (ID:2itgwwf4). Initializing new run:<br/>"
      ],
      "text/plain": [
       "<IPython.core.display.HTML object>"
      ]
     },
     "metadata": {},
     "output_type": "display_data"
    },
    {
     "data": {
      "text/html": [
       "wandb version 0.12.21 is available!  To upgrade, please run:\n",
       " $ pip install wandb --upgrade"
      ],
      "text/plain": [
       "<IPython.core.display.HTML object>"
      ]
     },
     "metadata": {},
     "output_type": "display_data"
    },
    {
     "data": {
      "text/html": [
       "Tracking run with wandb version 0.12.19"
      ],
      "text/plain": [
       "<IPython.core.display.HTML object>"
      ]
     },
     "metadata": {},
     "output_type": "display_data"
    },
    {
     "data": {
      "text/html": [
       "Run data is saved locally in <code>./outs/google-mt5-small_Mizan_4_baseline\\wandb\\run-20220724_113636-2yv94do8</code>"
      ],
      "text/plain": [
       "<IPython.core.display.HTML object>"
      ]
     },
     "metadata": {},
     "output_type": "display_data"
    },
    {
     "data": {
      "text/html": [
       "Syncing run <strong><a href=\"https://wandb.ai/persian-mt/google-mt5-small_Mizan_4/runs/2yv94do8\" target=\"_blank\">ethereal-spaceship-5</a></strong> to <a href=\"https://wandb.ai/persian-mt/google-mt5-small_Mizan_4\" target=\"_blank\">Weights & Biases</a> (<a href=\"https://wandb.me/run\" target=\"_blank\">docs</a>)<br/>"
      ],
      "text/plain": [
       "<IPython.core.display.HTML object>"
      ]
     },
     "metadata": {},
     "output_type": "display_data"
    }
   ],
   "source": [
    "import wandb\n",
    "import pandas as pd\n",
    "import os\n",
    "\n",
    "model_dir='./outs/google-mt5-small_Mizan_4_baseline'\n",
    "wandb.login(key='e17de26c63319152119eefbc833bb10b2ceb7bfd')\n",
    "#os.makedirs('./', exist_ok=True)\n",
    "wandb.init(project='google-mt5-small_Mizan_4', entity=\"persian-mt\", dir=model_dir)\n",
    "history = pd.read_csv(model_dir+'/history.csv')\n",
    "train_loss = pd.read_csv(model_dir+'/total_train_losss.csv')\n",
    "val_loss = pd.read_csv(model_dir+'/total_dev_losss.csv')\n",
    "\n",
    "\n",
    "for i, row in history.iterrows():\n",
    "    wandb.log({\"train_loss\": float(row['train_loss']), \"val_loss\":float(row['val_loss'])})\n",
    "\n",
    "for i, row in train_loss.iterrows():\n",
    "    wandb.log({\"step_train_loss\": float(row['total_train_losss'])})\n",
    "\n",
    "for i, row in val_loss.iterrows():\n",
    "    wandb.log({\"step_dev_loss\": float(row['total_dev_losss'])})\n"
   ]
  },
  {
   "cell_type": "code",
   "execution_count": 15,
   "metadata": {},
   "outputs": [
    {
     "name": "stdout",
     "output_type": "stream",
     "text": [
      "51499 68665\n",
      "ni\n",
      "8583\n"
     ]
    },
    {
     "data": {
      "text/html": [
       "<div>\n",
       "<style scoped>\n",
       "    .dataframe tbody tr th:only-of-type {\n",
       "        vertical-align: middle;\n",
       "    }\n",
       "\n",
       "    .dataframe tbody tr th {\n",
       "        vertical-align: top;\n",
       "    }\n",
       "\n",
       "    .dataframe thead th {\n",
       "        text-align: right;\n",
       "    }\n",
       "</style>\n",
       "<table border=\"1\" class=\"dataframe\">\n",
       "  <thead>\n",
       "    <tr style=\"text-align: right;\">\n",
       "      <th></th>\n",
       "      <th>en</th>\n",
       "      <th>fa</th>\n",
       "    </tr>\n",
       "  </thead>\n",
       "  <tbody>\n",
       "    <tr>\n",
       "      <th>0</th>\n",
       "      <td>raspy breathing .</td>\n",
       "      <td>صداي خر خر .</td>\n",
       "    </tr>\n",
       "    <tr>\n",
       "      <th>1</th>\n",
       "      <td>maybe its the wind .</td>\n",
       "      <td>شايد صداي باد باشه .</td>\n",
       "    </tr>\n",
       "    <tr>\n",
       "      <th>2</th>\n",
       "      <td>stop please stop .</td>\n",
       "      <td>دست نگه داريد خواهش ميکنم دست نگه داريد .</td>\n",
       "    </tr>\n",
       "    <tr>\n",
       "      <th>3</th>\n",
       "      <td>you have a week , evans then well burn the hou...</td>\n",
       "      <td>اوانز تو فقط يک هفته وقت داري وگرنه خونتو خواه...</td>\n",
       "    </tr>\n",
       "    <tr>\n",
       "      <th>4</th>\n",
       "      <td>god damn it , william .</td>\n",
       "      <td>لعنتي . ويليام 8 .</td>\n",
       "    </tr>\n",
       "  </tbody>\n",
       "</table>\n",
       "</div>"
      ],
      "text/plain": [
       "                                                  en  \\\n",
       "0                                  raspy breathing .   \n",
       "1                               maybe its the wind .   \n",
       "2                                 stop please stop .   \n",
       "3  you have a week , evans then well burn the hou...   \n",
       "4                            god damn it , william .   \n",
       "\n",
       "                                                  fa  \n",
       "0                                       صداي خر خر .  \n",
       "1                               شايد صداي باد باشه .  \n",
       "2          دست نگه داريد خواهش ميکنم دست نگه داريد .  \n",
       "3  اوانز تو فقط يک هفته وقت داري وگرنه خونتو خواه...  \n",
       "4                                 لعنتي . ويليام 8 .  "
      ]
     },
     "execution_count": 15,
     "metadata": {},
     "output_type": "execute_result"
    }
   ],
   "source": [
    "import numpy as np\n",
    "import pandas as pd\n",
    "import os\n",
    "\n",
    "data = os.listdir()[0]\n",
    "df = pd.read_csv('./data/TEP/en-fa.csv')\n",
    "# df.rename(columns={\"en\":\"fa\", \"fa\":\"en\"}, inplace=True)\n",
    "\n",
    "sample = df.sample(frac=1.0, random_state=42)\n",
    "shish = int(0.6 * len(sample))\n",
    "haft = int(0.8 * len(sample))\n",
    "\n",
    "train, validate, test = None, None, None\n",
    "if len(sample) >= 1000000:\n",
    "  train, validate, test = np.split(sample, [int(0.98 * len(sample)), int(0.99 * len(sample))])\n",
    "  print('hi')\n",
    "else:\n",
    "  print(shish, haft)\n",
    "  train, validate, test = np.split(sample, [int(0.8 * len(sample)), int(0.9 * len(sample))])\n",
    "  print('ni')\n",
    "\n",
    "print(len(validate))\n",
    "train.to_csv('train.csv', columns=['en', 'fa'], index=False)\n",
    "validate.to_csv('dev.csv', columns=['en', 'fa'], index=False)\n",
    "test.to_csv('test.csv', columns=['en', 'fa'], index=False)\n",
    "\n",
    "df.head()"
   ]
  },
  {
   "cell_type": "code",
   "execution_count": 5,
   "metadata": {},
   "outputs": [],
   "source": [
    "import pandas as pd\n",
    "df = pd.read_csv('./data/PEPC_Bidirectional/en-fa.csv')\n"
   ]
  },
  {
   "cell_type": "code",
   "execution_count": 9,
   "metadata": {},
   "outputs": [],
   "source": [
    "df.rename(columns={\"en\":\"fa\", \"fa\":\"en\"}, inplace=True)"
   ]
  },
  {
   "cell_type": "code",
   "execution_count": 10,
   "metadata": {},
   "outputs": [
    {
     "data": {
      "text/html": [
       "<div>\n",
       "<style scoped>\n",
       "    .dataframe tbody tr th:only-of-type {\n",
       "        vertical-align: middle;\n",
       "    }\n",
       "\n",
       "    .dataframe tbody tr th {\n",
       "        vertical-align: top;\n",
       "    }\n",
       "\n",
       "    .dataframe thead th {\n",
       "        text-align: right;\n",
       "    }\n",
       "</style>\n",
       "<table border=\"1\" class=\"dataframe\">\n",
       "  <thead>\n",
       "    <tr style=\"text-align: right;\">\n",
       "      <th></th>\n",
       "      <th>fa</th>\n",
       "      <th>en</th>\n",
       "    </tr>\n",
       "  </thead>\n",
       "  <tbody>\n",
       "    <tr>\n",
       "      <th>0</th>\n",
       "      <td>در آستانه اعدام او از قصد خودکشی صحبت کرد</td>\n",
       "      <td>On the eve of his execution he talked of suicide</td>\n",
       "    </tr>\n",
       "    <tr>\n",
       "      <th>1</th>\n",
       "      <td>درمان و پاسخ به درمان اما مشابه هستند</td>\n",
       "      <td>Treatment and response to treatment are also s...</td>\n",
       "    </tr>\n",
       "    <tr>\n",
       "      <th>2</th>\n",
       "      <td>در پرونده آنا میلتون، موهبتش باعث ایجاد یک درخ...</td>\n",
       "      <td>In Anna Milton s case her Grace caused the for...</td>\n",
       "    </tr>\n",
       "    <tr>\n",
       "      <th>3</th>\n",
       "      <td>در مرکز این استراتژی، نفت عراق واقع شده بود</td>\n",
       "      <td>At the center of this strategy was Iraq s oil</td>\n",
       "    </tr>\n",
       "    <tr>\n",
       "      <th>4</th>\n",
       "      <td>قبل از انقلاب صنعتی، فرهنگ عامه اغلب سل را با ...</td>\n",
       "      <td>Before the Industrial Revolution folklore ofte...</td>\n",
       "    </tr>\n",
       "    <tr>\n",
       "      <th>...</th>\n",
       "      <td>...</td>\n",
       "      <td>...</td>\n",
       "    </tr>\n",
       "    <tr>\n",
       "      <th>199931</th>\n",
       "      <td>تندیسی از رقصندهٔ شوربخت ازبکستانی نورخان که د...</td>\n",
       "      <td>A statue honoring ill-fated Uzbek dancer Nurkh...</td>\n",
       "    </tr>\n",
       "    <tr>\n",
       "      <th>199932</th>\n",
       "      <td>به عنوان مثال فضای بالای سرمان توسط علوم مختلف...</td>\n",
       "      <td>Space physics also known as space plasma physi...</td>\n",
       "    </tr>\n",
       "    <tr>\n",
       "      <th>199933</th>\n",
       "      <td>همچنین نمونه‌هایی از مهرهای تاریخی ایران در ای...</td>\n",
       "      <td>Azerbaijan Museum is the major archaeological ...</td>\n",
       "    </tr>\n",
       "    <tr>\n",
       "      <th>199934</th>\n",
       "      <td>اندازه آلت مردی با اندازه‌گیری قطر و طول آن مش...</td>\n",
       "      <td>Neither age nor size of the flaccid penis accu...</td>\n",
       "    </tr>\n",
       "    <tr>\n",
       "      <th>199935</th>\n",
       "      <td>تولید محتوا همچنان در حال رشد است و مصرف محتوا...</td>\n",
       "      <td>The role of the passive audience therefore has...</td>\n",
       "    </tr>\n",
       "  </tbody>\n",
       "</table>\n",
       "<p>199936 rows × 2 columns</p>\n",
       "</div>"
      ],
      "text/plain": [
       "                                                       fa  \\\n",
       "0               در آستانه اعدام او از قصد خودکشی صحبت کرد   \n",
       "1                   درمان و پاسخ به درمان اما مشابه هستند   \n",
       "2       در پرونده آنا میلتون، موهبتش باعث ایجاد یک درخ...   \n",
       "3             در مرکز این استراتژی، نفت عراق واقع شده بود   \n",
       "4       قبل از انقلاب صنعتی، فرهنگ عامه اغلب سل را با ...   \n",
       "...                                                   ...   \n",
       "199931  تندیسی از رقصندهٔ شوربخت ازبکستانی نورخان که د...   \n",
       "199932  به عنوان مثال فضای بالای سرمان توسط علوم مختلف...   \n",
       "199933  همچنین نمونه‌هایی از مهرهای تاریخی ایران در ای...   \n",
       "199934  اندازه آلت مردی با اندازه‌گیری قطر و طول آن مش...   \n",
       "199935  تولید محتوا همچنان در حال رشد است و مصرف محتوا...   \n",
       "\n",
       "                                                       en  \n",
       "0        On the eve of his execution he talked of suicide  \n",
       "1       Treatment and response to treatment are also s...  \n",
       "2       In Anna Milton s case her Grace caused the for...  \n",
       "3           At the center of this strategy was Iraq s oil  \n",
       "4       Before the Industrial Revolution folklore ofte...  \n",
       "...                                                   ...  \n",
       "199931  A statue honoring ill-fated Uzbek dancer Nurkh...  \n",
       "199932  Space physics also known as space plasma physi...  \n",
       "199933  Azerbaijan Museum is the major archaeological ...  \n",
       "199934  Neither age nor size of the flaccid penis accu...  \n",
       "199935  The role of the passive audience therefore has...  \n",
       "\n",
       "[199936 rows x 2 columns]"
      ]
     },
     "execution_count": 10,
     "metadata": {},
     "output_type": "execute_result"
    }
   ],
   "source": [
    "df"
   ]
  },
  {
   "cell_type": "code",
   "execution_count": 38,
   "metadata": {},
   "outputs": [],
   "source": [
    "import glob\n",
    "import os\n",
    "# print(glob.glob(\"./data/OpenSubtitles/*.csv\"))\n",
    "paths = glob.glob(\"./data/OpenSubtitles/*.csv\")"
   ]
  },
  {
   "cell_type": "code",
   "execution_count": 46,
   "metadata": {},
   "outputs": [
    {
     "name": "stdout",
     "output_type": "stream",
     "text": [
      "af-fa\n",
      "bg-fa\n",
      "bn-fa\n",
      "br-fa\n",
      "bs-fa\n",
      "ca-fa\n",
      "cs-fa\n",
      "da-fa\n",
      "de-fa\n",
      "el-fa\n",
      "en-fa\n",
      "eo-fa\n",
      "es-fa\n",
      "et-fa\n",
      "eu-fa\n",
      "fa-fi\n",
      "fa-fr\n",
      "fa-gl\n",
      "fa-he\n",
      "fa-hi\n",
      "fa-hr\n",
      "fa-hu\n",
      "fa-id\n",
      "fa-is\n",
      "fa-it\n",
      "fa-ja\n",
      "fa-ka\n",
      "fa-kk\n",
      "fa-ko\n",
      "fa-lt\n",
      "fa-lv\n",
      "fa-mk\n",
      "fa-ml\n",
      "fa-ms\n",
      "fa-nl\n",
      "fa-no\n",
      "fa-pl\n",
      "fa-pt\n",
      "fa-pt_br\n",
      "fa-ro\n",
      "fa-ru\n",
      "fa-si\n",
      "fa-sk\n",
      "fa-sl\n",
      "fa-sq\n",
      "fa-sr\n",
      "fa-sv\n",
      "fa-ta\n",
      "fa-te\n",
      "fa-th\n",
      "fa-tl\n",
      "fa-tr\n",
      "fa-uk\n",
      "fa-ur\n",
      "fa-vi\n",
      "fa-ze_en\n",
      "fa-ze_zh\n",
      "fa-zh_cn\n",
      "fa-zh_tw\n"
     ]
    }
   ],
   "source": [
    "import shutil\n",
    "\n",
    "\n",
    "\n",
    "for p in paths:\n",
    "    print(p.split('\\\\')[-1].split('.')[0])\n",
    "    name = p.split('\\\\')[-1].split('.')[0]\n",
    "    new_path = './data/OS/' + name\n",
    "    \n",
    "    os.makedirs(new_path, exist_ok=True)\n",
    "    shutil.copy(p, new_path) "
   ]
  },
  {
   "cell_type": "code",
   "execution_count": 42,
   "metadata": {},
   "outputs": [
    {
     "data": {
      "text/plain": [
       "['./data/Quran\\\\en-fa.csv']"
      ]
     },
     "execution_count": 42,
     "metadata": {},
     "output_type": "execute_result"
    }
   ],
   "source": [
    "paths = glob.glob(\"./data/Quran/*.csv\")\n",
    "paths"
   ]
  },
  {
   "cell_type": "code",
   "execution_count": 43,
   "metadata": {},
   "outputs": [
    {
     "name": "stdout",
     "output_type": "stream",
     "text": [
      "1008416\n",
      "10290\n",
      "10290\n",
      "./data/Quran\n",
      "_____________\n"
     ]
    }
   ],
   "source": [
    "paths = glob.glob(\"./data/Quran/*.csv\")\n",
    "# '/'.join(paths[0].split('\\\\')[:-1])\n",
    "under_million = []\n",
    "for p in paths:\n",
    "  if ('train' not in p) or ('test' not in p) or ('dev' not in p):\n",
    "    dir = '/'.join(p.split('\\\\')[:-1])  \n",
    "    df = pd.read_csv(p)\n",
    "\n",
    "    sample = df.sample(frac=1.0, random_state=42)\n",
    "    shish = int(0.6 * len(sample))\n",
    "    haft = int(0.8 * len(sample))\n",
    "\n",
    "    train, validate, test = None, None, None\n",
    "    if len(sample) >= 1000000:\n",
    "      train, validate, test = np.split(sample, [int(0.98 * len(sample)), int(0.99 * len(sample))])\n",
    "    else:\n",
    "      under_million.append(dir)\n",
    "      train, validate, test = np.split(sample, [int(0.8 * len(sample)), int(0.9 * len(sample))])\n",
    "\n",
    "    print(len(train))\n",
    "    print(len(validate))\n",
    "    print(len(test))\n",
    "    print(dir)\n",
    "    print(\"_____________\")\n",
    "    train.to_csv(dir +'/train.csv', index=False)\n",
    "    validate.to_csv(dir + '/dev.csv', index=False)\n",
    "    test.to_csv(dir+'/test.csv', index=False)\n",
    "\n",
    "  # df.head()"
   ]
  },
  {
   "cell_type": "code",
   "execution_count": 24,
   "metadata": {},
   "outputs": [
    {
     "name": "stderr",
     "output_type": "stream",
     "text": [
      "C:\\Users\\Administrator\\AppData\\Local\\Temp\\ipykernel_12508\\1516444215.py:9: FutureWarning: The frame.append method is deprecated and will be removed from pandas in a future version. Use pandas.concat instead.\n",
      "  df_count = df_count.append({\"lang\":p.split('\\\\')[1].split('.')[0],\"number\":len(df.index)}, ignore_index=True)\n",
      "C:\\Users\\Administrator\\AppData\\Local\\Temp\\ipykernel_12508\\1516444215.py:9: FutureWarning: The frame.append method is deprecated and will be removed from pandas in a future version. Use pandas.concat instead.\n",
      "  df_count = df_count.append({\"lang\":p.split('\\\\')[1].split('.')[0],\"number\":len(df.index)}, ignore_index=True)\n",
      "C:\\Users\\Administrator\\AppData\\Local\\Temp\\ipykernel_12508\\1516444215.py:9: FutureWarning: The frame.append method is deprecated and will be removed from pandas in a future version. Use pandas.concat instead.\n",
      "  df_count = df_count.append({\"lang\":p.split('\\\\')[1].split('.')[0],\"number\":len(df.index)}, ignore_index=True)\n",
      "C:\\Users\\Administrator\\AppData\\Local\\Temp\\ipykernel_12508\\1516444215.py:9: FutureWarning: The frame.append method is deprecated and will be removed from pandas in a future version. Use pandas.concat instead.\n",
      "  df_count = df_count.append({\"lang\":p.split('\\\\')[1].split('.')[0],\"number\":len(df.index)}, ignore_index=True)\n",
      "C:\\Users\\Administrator\\AppData\\Local\\Temp\\ipykernel_12508\\1516444215.py:9: FutureWarning: The frame.append method is deprecated and will be removed from pandas in a future version. Use pandas.concat instead.\n",
      "  df_count = df_count.append({\"lang\":p.split('\\\\')[1].split('.')[0],\"number\":len(df.index)}, ignore_index=True)\n",
      "C:\\Users\\Administrator\\AppData\\Local\\Temp\\ipykernel_12508\\1516444215.py:9: FutureWarning: The frame.append method is deprecated and will be removed from pandas in a future version. Use pandas.concat instead.\n",
      "  df_count = df_count.append({\"lang\":p.split('\\\\')[1].split('.')[0],\"number\":len(df.index)}, ignore_index=True)\n",
      "C:\\Users\\Administrator\\AppData\\Local\\Temp\\ipykernel_12508\\1516444215.py:9: FutureWarning: The frame.append method is deprecated and will be removed from pandas in a future version. Use pandas.concat instead.\n",
      "  df_count = df_count.append({\"lang\":p.split('\\\\')[1].split('.')[0],\"number\":len(df.index)}, ignore_index=True)\n",
      "C:\\Users\\Administrator\\AppData\\Local\\Temp\\ipykernel_12508\\1516444215.py:9: FutureWarning: The frame.append method is deprecated and will be removed from pandas in a future version. Use pandas.concat instead.\n",
      "  df_count = df_count.append({\"lang\":p.split('\\\\')[1].split('.')[0],\"number\":len(df.index)}, ignore_index=True)\n",
      "C:\\Users\\Administrator\\AppData\\Local\\Temp\\ipykernel_12508\\1516444215.py:9: FutureWarning: The frame.append method is deprecated and will be removed from pandas in a future version. Use pandas.concat instead.\n",
      "  df_count = df_count.append({\"lang\":p.split('\\\\')[1].split('.')[0],\"number\":len(df.index)}, ignore_index=True)\n",
      "C:\\Users\\Administrator\\AppData\\Local\\Temp\\ipykernel_12508\\1516444215.py:9: FutureWarning: The frame.append method is deprecated and will be removed from pandas in a future version. Use pandas.concat instead.\n",
      "  df_count = df_count.append({\"lang\":p.split('\\\\')[1].split('.')[0],\"number\":len(df.index)}, ignore_index=True)\n",
      "C:\\Users\\Administrator\\AppData\\Local\\Temp\\ipykernel_12508\\1516444215.py:9: FutureWarning: The frame.append method is deprecated and will be removed from pandas in a future version. Use pandas.concat instead.\n",
      "  df_count = df_count.append({\"lang\":p.split('\\\\')[1].split('.')[0],\"number\":len(df.index)}, ignore_index=True)\n",
      "C:\\Users\\Administrator\\AppData\\Local\\Temp\\ipykernel_12508\\1516444215.py:9: FutureWarning: The frame.append method is deprecated and will be removed from pandas in a future version. Use pandas.concat instead.\n",
      "  df_count = df_count.append({\"lang\":p.split('\\\\')[1].split('.')[0],\"number\":len(df.index)}, ignore_index=True)\n",
      "C:\\Users\\Administrator\\AppData\\Local\\Temp\\ipykernel_12508\\1516444215.py:9: FutureWarning: The frame.append method is deprecated and will be removed from pandas in a future version. Use pandas.concat instead.\n",
      "  df_count = df_count.append({\"lang\":p.split('\\\\')[1].split('.')[0],\"number\":len(df.index)}, ignore_index=True)\n",
      "C:\\Users\\Administrator\\AppData\\Local\\Temp\\ipykernel_12508\\1516444215.py:9: FutureWarning: The frame.append method is deprecated and will be removed from pandas in a future version. Use pandas.concat instead.\n",
      "  df_count = df_count.append({\"lang\":p.split('\\\\')[1].split('.')[0],\"number\":len(df.index)}, ignore_index=True)\n",
      "C:\\Users\\Administrator\\AppData\\Local\\Temp\\ipykernel_12508\\1516444215.py:9: FutureWarning: The frame.append method is deprecated and will be removed from pandas in a future version. Use pandas.concat instead.\n",
      "  df_count = df_count.append({\"lang\":p.split('\\\\')[1].split('.')[0],\"number\":len(df.index)}, ignore_index=True)\n",
      "C:\\Users\\Administrator\\AppData\\Local\\Temp\\ipykernel_12508\\1516444215.py:9: FutureWarning: The frame.append method is deprecated and will be removed from pandas in a future version. Use pandas.concat instead.\n",
      "  df_count = df_count.append({\"lang\":p.split('\\\\')[1].split('.')[0],\"number\":len(df.index)}, ignore_index=True)\n",
      "C:\\Users\\Administrator\\AppData\\Local\\Temp\\ipykernel_12508\\1516444215.py:9: FutureWarning: The frame.append method is deprecated and will be removed from pandas in a future version. Use pandas.concat instead.\n",
      "  df_count = df_count.append({\"lang\":p.split('\\\\')[1].split('.')[0],\"number\":len(df.index)}, ignore_index=True)\n",
      "C:\\Users\\Administrator\\AppData\\Local\\Temp\\ipykernel_12508\\1516444215.py:9: FutureWarning: The frame.append method is deprecated and will be removed from pandas in a future version. Use pandas.concat instead.\n",
      "  df_count = df_count.append({\"lang\":p.split('\\\\')[1].split('.')[0],\"number\":len(df.index)}, ignore_index=True)\n",
      "C:\\Users\\Administrator\\AppData\\Local\\Temp\\ipykernel_12508\\1516444215.py:9: FutureWarning: The frame.append method is deprecated and will be removed from pandas in a future version. Use pandas.concat instead.\n",
      "  df_count = df_count.append({\"lang\":p.split('\\\\')[1].split('.')[0],\"number\":len(df.index)}, ignore_index=True)\n",
      "C:\\Users\\Administrator\\AppData\\Local\\Temp\\ipykernel_12508\\1516444215.py:9: FutureWarning: The frame.append method is deprecated and will be removed from pandas in a future version. Use pandas.concat instead.\n",
      "  df_count = df_count.append({\"lang\":p.split('\\\\')[1].split('.')[0],\"number\":len(df.index)}, ignore_index=True)\n",
      "C:\\Users\\Administrator\\AppData\\Local\\Temp\\ipykernel_12508\\1516444215.py:9: FutureWarning: The frame.append method is deprecated and will be removed from pandas in a future version. Use pandas.concat instead.\n",
      "  df_count = df_count.append({\"lang\":p.split('\\\\')[1].split('.')[0],\"number\":len(df.index)}, ignore_index=True)\n",
      "C:\\Users\\Administrator\\AppData\\Local\\Temp\\ipykernel_12508\\1516444215.py:9: FutureWarning: The frame.append method is deprecated and will be removed from pandas in a future version. Use pandas.concat instead.\n",
      "  df_count = df_count.append({\"lang\":p.split('\\\\')[1].split('.')[0],\"number\":len(df.index)}, ignore_index=True)\n",
      "C:\\Users\\Administrator\\AppData\\Local\\Temp\\ipykernel_12508\\1516444215.py:9: FutureWarning: The frame.append method is deprecated and will be removed from pandas in a future version. Use pandas.concat instead.\n",
      "  df_count = df_count.append({\"lang\":p.split('\\\\')[1].split('.')[0],\"number\":len(df.index)}, ignore_index=True)\n",
      "C:\\Users\\Administrator\\AppData\\Local\\Temp\\ipykernel_12508\\1516444215.py:9: FutureWarning: The frame.append method is deprecated and will be removed from pandas in a future version. Use pandas.concat instead.\n",
      "  df_count = df_count.append({\"lang\":p.split('\\\\')[1].split('.')[0],\"number\":len(df.index)}, ignore_index=True)\n",
      "C:\\Users\\Administrator\\AppData\\Local\\Temp\\ipykernel_12508\\1516444215.py:9: FutureWarning: The frame.append method is deprecated and will be removed from pandas in a future version. Use pandas.concat instead.\n",
      "  df_count = df_count.append({\"lang\":p.split('\\\\')[1].split('.')[0],\"number\":len(df.index)}, ignore_index=True)\n",
      "C:\\Users\\Administrator\\AppData\\Local\\Temp\\ipykernel_12508\\1516444215.py:9: FutureWarning: The frame.append method is deprecated and will be removed from pandas in a future version. Use pandas.concat instead.\n",
      "  df_count = df_count.append({\"lang\":p.split('\\\\')[1].split('.')[0],\"number\":len(df.index)}, ignore_index=True)\n",
      "C:\\Users\\Administrator\\AppData\\Local\\Temp\\ipykernel_12508\\1516444215.py:9: FutureWarning: The frame.append method is deprecated and will be removed from pandas in a future version. Use pandas.concat instead.\n",
      "  df_count = df_count.append({\"lang\":p.split('\\\\')[1].split('.')[0],\"number\":len(df.index)}, ignore_index=True)\n",
      "C:\\Users\\Administrator\\AppData\\Local\\Temp\\ipykernel_12508\\1516444215.py:9: FutureWarning: The frame.append method is deprecated and will be removed from pandas in a future version. Use pandas.concat instead.\n",
      "  df_count = df_count.append({\"lang\":p.split('\\\\')[1].split('.')[0],\"number\":len(df.index)}, ignore_index=True)\n",
      "C:\\Users\\Administrator\\AppData\\Local\\Temp\\ipykernel_12508\\1516444215.py:9: FutureWarning: The frame.append method is deprecated and will be removed from pandas in a future version. Use pandas.concat instead.\n",
      "  df_count = df_count.append({\"lang\":p.split('\\\\')[1].split('.')[0],\"number\":len(df.index)}, ignore_index=True)\n",
      "C:\\Users\\Administrator\\AppData\\Local\\Temp\\ipykernel_12508\\1516444215.py:9: FutureWarning: The frame.append method is deprecated and will be removed from pandas in a future version. Use pandas.concat instead.\n",
      "  df_count = df_count.append({\"lang\":p.split('\\\\')[1].split('.')[0],\"number\":len(df.index)}, ignore_index=True)\n",
      "C:\\Users\\Administrator\\AppData\\Local\\Temp\\ipykernel_12508\\1516444215.py:9: FutureWarning: The frame.append method is deprecated and will be removed from pandas in a future version. Use pandas.concat instead.\n",
      "  df_count = df_count.append({\"lang\":p.split('\\\\')[1].split('.')[0],\"number\":len(df.index)}, ignore_index=True)\n",
      "C:\\Users\\Administrator\\AppData\\Local\\Temp\\ipykernel_12508\\1516444215.py:9: FutureWarning: The frame.append method is deprecated and will be removed from pandas in a future version. Use pandas.concat instead.\n",
      "  df_count = df_count.append({\"lang\":p.split('\\\\')[1].split('.')[0],\"number\":len(df.index)}, ignore_index=True)\n",
      "C:\\Users\\Administrator\\AppData\\Local\\Temp\\ipykernel_12508\\1516444215.py:9: FutureWarning: The frame.append method is deprecated and will be removed from pandas in a future version. Use pandas.concat instead.\n",
      "  df_count = df_count.append({\"lang\":p.split('\\\\')[1].split('.')[0],\"number\":len(df.index)}, ignore_index=True)\n",
      "C:\\Users\\Administrator\\AppData\\Local\\Temp\\ipykernel_12508\\1516444215.py:9: FutureWarning: The frame.append method is deprecated and will be removed from pandas in a future version. Use pandas.concat instead.\n",
      "  df_count = df_count.append({\"lang\":p.split('\\\\')[1].split('.')[0],\"number\":len(df.index)}, ignore_index=True)\n",
      "C:\\Users\\Administrator\\AppData\\Local\\Temp\\ipykernel_12508\\1516444215.py:9: FutureWarning: The frame.append method is deprecated and will be removed from pandas in a future version. Use pandas.concat instead.\n",
      "  df_count = df_count.append({\"lang\":p.split('\\\\')[1].split('.')[0],\"number\":len(df.index)}, ignore_index=True)\n",
      "C:\\Users\\Administrator\\AppData\\Local\\Temp\\ipykernel_12508\\1516444215.py:9: FutureWarning: The frame.append method is deprecated and will be removed from pandas in a future version. Use pandas.concat instead.\n",
      "  df_count = df_count.append({\"lang\":p.split('\\\\')[1].split('.')[0],\"number\":len(df.index)}, ignore_index=True)\n",
      "C:\\Users\\Administrator\\AppData\\Local\\Temp\\ipykernel_12508\\1516444215.py:9: FutureWarning: The frame.append method is deprecated and will be removed from pandas in a future version. Use pandas.concat instead.\n",
      "  df_count = df_count.append({\"lang\":p.split('\\\\')[1].split('.')[0],\"number\":len(df.index)}, ignore_index=True)\n",
      "C:\\Users\\Administrator\\AppData\\Local\\Temp\\ipykernel_12508\\1516444215.py:9: FutureWarning: The frame.append method is deprecated and will be removed from pandas in a future version. Use pandas.concat instead.\n",
      "  df_count = df_count.append({\"lang\":p.split('\\\\')[1].split('.')[0],\"number\":len(df.index)}, ignore_index=True)\n",
      "C:\\Users\\Administrator\\AppData\\Local\\Temp\\ipykernel_12508\\1516444215.py:9: FutureWarning: The frame.append method is deprecated and will be removed from pandas in a future version. Use pandas.concat instead.\n",
      "  df_count = df_count.append({\"lang\":p.split('\\\\')[1].split('.')[0],\"number\":len(df.index)}, ignore_index=True)\n",
      "C:\\Users\\Administrator\\AppData\\Local\\Temp\\ipykernel_12508\\1516444215.py:9: FutureWarning: The frame.append method is deprecated and will be removed from pandas in a future version. Use pandas.concat instead.\n",
      "  df_count = df_count.append({\"lang\":p.split('\\\\')[1].split('.')[0],\"number\":len(df.index)}, ignore_index=True)\n",
      "C:\\Users\\Administrator\\AppData\\Local\\Temp\\ipykernel_12508\\1516444215.py:9: FutureWarning: The frame.append method is deprecated and will be removed from pandas in a future version. Use pandas.concat instead.\n",
      "  df_count = df_count.append({\"lang\":p.split('\\\\')[1].split('.')[0],\"number\":len(df.index)}, ignore_index=True)\n",
      "C:\\Users\\Administrator\\AppData\\Local\\Temp\\ipykernel_12508\\1516444215.py:9: FutureWarning: The frame.append method is deprecated and will be removed from pandas in a future version. Use pandas.concat instead.\n",
      "  df_count = df_count.append({\"lang\":p.split('\\\\')[1].split('.')[0],\"number\":len(df.index)}, ignore_index=True)\n",
      "C:\\Users\\Administrator\\AppData\\Local\\Temp\\ipykernel_12508\\1516444215.py:9: FutureWarning: The frame.append method is deprecated and will be removed from pandas in a future version. Use pandas.concat instead.\n",
      "  df_count = df_count.append({\"lang\":p.split('\\\\')[1].split('.')[0],\"number\":len(df.index)}, ignore_index=True)\n",
      "C:\\Users\\Administrator\\AppData\\Local\\Temp\\ipykernel_12508\\1516444215.py:9: FutureWarning: The frame.append method is deprecated and will be removed from pandas in a future version. Use pandas.concat instead.\n",
      "  df_count = df_count.append({\"lang\":p.split('\\\\')[1].split('.')[0],\"number\":len(df.index)}, ignore_index=True)\n",
      "C:\\Users\\Administrator\\AppData\\Local\\Temp\\ipykernel_12508\\1516444215.py:9: FutureWarning: The frame.append method is deprecated and will be removed from pandas in a future version. Use pandas.concat instead.\n",
      "  df_count = df_count.append({\"lang\":p.split('\\\\')[1].split('.')[0],\"number\":len(df.index)}, ignore_index=True)\n",
      "C:\\Users\\Administrator\\AppData\\Local\\Temp\\ipykernel_12508\\1516444215.py:9: FutureWarning: The frame.append method is deprecated and will be removed from pandas in a future version. Use pandas.concat instead.\n",
      "  df_count = df_count.append({\"lang\":p.split('\\\\')[1].split('.')[0],\"number\":len(df.index)}, ignore_index=True)\n",
      "C:\\Users\\Administrator\\AppData\\Local\\Temp\\ipykernel_12508\\1516444215.py:9: FutureWarning: The frame.append method is deprecated and will be removed from pandas in a future version. Use pandas.concat instead.\n",
      "  df_count = df_count.append({\"lang\":p.split('\\\\')[1].split('.')[0],\"number\":len(df.index)}, ignore_index=True)\n",
      "C:\\Users\\Administrator\\AppData\\Local\\Temp\\ipykernel_12508\\1516444215.py:9: FutureWarning: The frame.append method is deprecated and will be removed from pandas in a future version. Use pandas.concat instead.\n",
      "  df_count = df_count.append({\"lang\":p.split('\\\\')[1].split('.')[0],\"number\":len(df.index)}, ignore_index=True)\n",
      "C:\\Users\\Administrator\\AppData\\Local\\Temp\\ipykernel_12508\\1516444215.py:9: FutureWarning: The frame.append method is deprecated and will be removed from pandas in a future version. Use pandas.concat instead.\n",
      "  df_count = df_count.append({\"lang\":p.split('\\\\')[1].split('.')[0],\"number\":len(df.index)}, ignore_index=True)\n",
      "C:\\Users\\Administrator\\AppData\\Local\\Temp\\ipykernel_12508\\1516444215.py:9: FutureWarning: The frame.append method is deprecated and will be removed from pandas in a future version. Use pandas.concat instead.\n",
      "  df_count = df_count.append({\"lang\":p.split('\\\\')[1].split('.')[0],\"number\":len(df.index)}, ignore_index=True)\n",
      "C:\\Users\\Administrator\\AppData\\Local\\Temp\\ipykernel_12508\\1516444215.py:9: FutureWarning: The frame.append method is deprecated and will be removed from pandas in a future version. Use pandas.concat instead.\n",
      "  df_count = df_count.append({\"lang\":p.split('\\\\')[1].split('.')[0],\"number\":len(df.index)}, ignore_index=True)\n",
      "C:\\Users\\Administrator\\AppData\\Local\\Temp\\ipykernel_12508\\1516444215.py:9: FutureWarning: The frame.append method is deprecated and will be removed from pandas in a future version. Use pandas.concat instead.\n",
      "  df_count = df_count.append({\"lang\":p.split('\\\\')[1].split('.')[0],\"number\":len(df.index)}, ignore_index=True)\n",
      "C:\\Users\\Administrator\\AppData\\Local\\Temp\\ipykernel_12508\\1516444215.py:9: FutureWarning: The frame.append method is deprecated and will be removed from pandas in a future version. Use pandas.concat instead.\n",
      "  df_count = df_count.append({\"lang\":p.split('\\\\')[1].split('.')[0],\"number\":len(df.index)}, ignore_index=True)\n",
      "C:\\Users\\Administrator\\AppData\\Local\\Temp\\ipykernel_12508\\1516444215.py:9: FutureWarning: The frame.append method is deprecated and will be removed from pandas in a future version. Use pandas.concat instead.\n",
      "  df_count = df_count.append({\"lang\":p.split('\\\\')[1].split('.')[0],\"number\":len(df.index)}, ignore_index=True)\n",
      "C:\\Users\\Administrator\\AppData\\Local\\Temp\\ipykernel_12508\\1516444215.py:9: FutureWarning: The frame.append method is deprecated and will be removed from pandas in a future version. Use pandas.concat instead.\n",
      "  df_count = df_count.append({\"lang\":p.split('\\\\')[1].split('.')[0],\"number\":len(df.index)}, ignore_index=True)\n",
      "C:\\Users\\Administrator\\AppData\\Local\\Temp\\ipykernel_12508\\1516444215.py:9: FutureWarning: The frame.append method is deprecated and will be removed from pandas in a future version. Use pandas.concat instead.\n",
      "  df_count = df_count.append({\"lang\":p.split('\\\\')[1].split('.')[0],\"number\":len(df.index)}, ignore_index=True)\n",
      "C:\\Users\\Administrator\\AppData\\Local\\Temp\\ipykernel_12508\\1516444215.py:9: FutureWarning: The frame.append method is deprecated and will be removed from pandas in a future version. Use pandas.concat instead.\n",
      "  df_count = df_count.append({\"lang\":p.split('\\\\')[1].split('.')[0],\"number\":len(df.index)}, ignore_index=True)\n",
      "C:\\Users\\Administrator\\AppData\\Local\\Temp\\ipykernel_12508\\1516444215.py:9: FutureWarning: The frame.append method is deprecated and will be removed from pandas in a future version. Use pandas.concat instead.\n",
      "  df_count = df_count.append({\"lang\":p.split('\\\\')[1].split('.')[0],\"number\":len(df.index)}, ignore_index=True)\n",
      "C:\\Users\\Administrator\\AppData\\Local\\Temp\\ipykernel_12508\\1516444215.py:9: FutureWarning: The frame.append method is deprecated and will be removed from pandas in a future version. Use pandas.concat instead.\n",
      "  df_count = df_count.append({\"lang\":p.split('\\\\')[1].split('.')[0],\"number\":len(df.index)}, ignore_index=True)\n"
     ]
    }
   ],
   "source": [
    "import glob\n",
    "paths = glob.glob(\"./data/OpenSubtitles/*.csv\")\n",
    "import pandas as pd\n",
    "\n",
    "df_count = pd.DataFrame(columns=['lang', 'number'])\n",
    "for p in paths:\n",
    "    \n",
    "    df = pd.read_csv(p)\n",
    "    df_count = df_count.append({\"lang\":p.split('\\\\')[1].split('.')[0],\"number\":len(df.index)}, ignore_index=True)\n",
    "    # break"
   ]
  },
  {
   "cell_type": "code",
   "execution_count": 25,
   "metadata": {},
   "outputs": [],
   "source": [
    "df_count.to_csv(\"./os_info.csv\", index=False)"
   ]
  },
  {
   "cell_type": "code",
   "execution_count": 64,
   "metadata": {},
   "outputs": [
    {
     "name": "stdout",
     "output_type": "stream",
     "text": [
      "./data/OS/af-fa/train.csv\n",
      "./data/OS/bn-fa/train.csv\n",
      "./data/OS/br-fa/train.csv\n",
      "./data/OS/ca-fa/train.csv\n",
      "./data/OS/eo-fa/train.csv\n",
      "./data/OS/eu-fa/train.csv\n",
      "./data/OS/fa-gl/train.csv\n",
      "./data/OS/fa-hi/train.csv\n",
      "./data/OS/fa-is/train.csv\n",
      "./data/OS/fa-ja/train.csv\n",
      "./data/OS/fa-ka/train.csv\n",
      "./data/OS/fa-kk/train.csv\n",
      "./data/OS/fa-ko/train.csv\n",
      "./data/OS/fa-lt/train.csv\n",
      "./data/OS/fa-lv/train.csv\n",
      "./data/OS/fa-ml/train.csv\n",
      "./data/OS/fa-ms/train.csv\n",
      "./data/OS/fa-si/train.csv\n",
      "./data/OS/fa-sq/train.csv\n",
      "./data/OS/fa-ta/train.csv\n",
      "./data/OS/fa-te/train.csv\n",
      "./data/OS/fa-tl/train.csv\n",
      "./data/OS/fa-uk/train.csv\n",
      "./data/OS/fa-ur/train.csv\n",
      "./data/OS/fa-ze_en/train.csv\n",
      "./data/OS/fa-ze_zh/train.csv\n"
     ]
    }
   ],
   "source": [
    "paths = glob.glob(\"./data/OS/*/*.csv\")\n",
    "\n",
    "# '/'.join(paths[0].split('\\\\')[:-1])\n",
    "under_100k = []\n",
    "for p in under_million:\n",
    "  p = p+'/train.csv'\n",
    "  print(p)\n",
    "  if ('fa' not in p) and ('test' not in p) and ('dev' not in p):\n",
    "    dir = '/'.join(p.split('/')[:-1])  \n",
    "    df = pd.read_csv(p)\n",
    "    if len(df)< 100000:\n",
    "        under_100k.append(dir)"
   ]
  },
  {
   "cell_type": "code",
   "execution_count": 65,
   "metadata": {},
   "outputs": [
    {
     "data": {
      "text/plain": [
       "['./data/OS/af-fa',\n",
       " './data/OS/br-fa',\n",
       " './data/OS/eo-fa',\n",
       " './data/OS/fa-gl',\n",
       " './data/OS/fa-hi',\n",
       " './data/OS/fa-ka',\n",
       " './data/OS/fa-kk',\n",
       " './data/OS/fa-ta',\n",
       " './data/OS/fa-te',\n",
       " './data/OS/fa-tl',\n",
       " './data/OS/fa-ur',\n",
       " './data/OS/fa-ze_en']"
      ]
     },
     "execution_count": 65,
     "metadata": {},
     "output_type": "execute_result"
    }
   ],
   "source": [
    "under_100k"
   ]
  },
  {
   "cell_type": "code",
   "execution_count": null,
   "metadata": {},
   "outputs": [],
   "source": [
    "pd.read_csv(\"./data/OS/fa-he/train.csv\")"
   ]
  },
  {
   "cell_type": "code",
   "execution_count": 27,
   "metadata": {},
   "outputs": [
    {
     "data": {
      "text/plain": [
       "1000000.0"
      ]
     },
     "execution_count": 27,
     "metadata": {},
     "output_type": "execute_result"
    }
   ],
   "source": [
    "1e+6"
   ]
  },
  {
   "cell_type": "code",
   "execution_count": 36,
   "metadata": {},
   "outputs": [
    {
     "data": {
      "text/plain": [
       "['./data/OS/bn-fa',\n",
       " './data/OS/ca-fa',\n",
       " './data/OS/eu-fa',\n",
       " './data/OS/fa-is',\n",
       " './data/OS/fa-ja',\n",
       " './data/OS/fa-ko',\n",
       " './data/OS/fa-lt',\n",
       " './data/OS/fa-lv',\n",
       " './data/OS/fa-ml',\n",
       " './data/OS/fa-ms',\n",
       " './data/OS/fa-si',\n",
       " './data/OS/fa-sq',\n",
       " './data/OS/fa-uk',\n",
       " './data/OS/fa-ze_en',\n",
       " './data/OS/fa-ze_zh']"
      ]
     },
     "execution_count": 36,
     "metadata": {},
     "output_type": "execute_result"
    }
   ],
   "source": [
    "import pandas as pd\n",
    "\n",
    "# br, bs, he, hr, id\n",
    "# pt_br, tl, ze_en, ze_zh\n",
    "# zh_cn, zh_tw\n",
    "not_suppurt = ['br', 'bs', 'he', 'hr', 'id', 'pt_br', \"tl\", \"ze_en\", \"ze_zh\", \"zh_cn\", \"zh_tw\"]\n",
    "df_info = pd.read_csv('./os_info.csv')\n",
    "\n",
    "langs = df_info[(df_info['number']< 1e+6 ) & (df_info['number']>1e+5)]['lang'].values\n",
    "\n",
    "datasets = []\n",
    "for lang in langs:\n",
    "    for nt in not_suppurt:\n",
    "        if nt not in lang:\n",
    "            datasets.append(\"./data/OS/\" + lang)\n",
    "        break\n",
    "datasets"
   ]
  },
  {
   "cell_type": "code",
   "execution_count": 1,
   "metadata": {},
   "outputs": [
    {
     "name": "stderr",
     "output_type": "stream",
     "text": [
      "c:\\ProgramData\\Anaconda3\\envs\\MT\\lib\\site-packages\\tqdm\\auto.py:22: TqdmWarning: IProgress not found. Please update jupyter and ipywidgets. See https://ipywidgets.readthedocs.io/en/stable/user_install.html\n",
      "  from .autonotebook import tqdm as notebook_tqdm\n",
      "Failed to detect the name of this notebook, you can set it manually with the WANDB_NOTEBOOK_NAME environment variable to enable code saving.\n",
      "Retry attempt failed:\n",
      "Traceback (most recent call last):\n",
      "  File \"c:\\ProgramData\\Anaconda3\\envs\\MT\\lib\\site-packages\\urllib3\\connectionpool.py\", line 700, in urlopen\n",
      "    self._prepare_proxy(conn)\n",
      "  File \"c:\\ProgramData\\Anaconda3\\envs\\MT\\lib\\site-packages\\urllib3\\connectionpool.py\", line 994, in _prepare_proxy\n",
      "    conn.connect()\n",
      "  File \"c:\\ProgramData\\Anaconda3\\envs\\MT\\lib\\site-packages\\urllib3\\connection.py\", line 364, in connect\n",
      "    self.sock = conn = self._connect_tls_proxy(hostname, conn)\n",
      "  File \"c:\\ProgramData\\Anaconda3\\envs\\MT\\lib\\site-packages\\urllib3\\connection.py\", line 499, in _connect_tls_proxy\n",
      "    socket = ssl_wrap_socket(\n",
      "  File \"c:\\ProgramData\\Anaconda3\\envs\\MT\\lib\\site-packages\\urllib3\\util\\ssl_.py\", line 453, in ssl_wrap_socket\n",
      "    ssl_sock = _ssl_wrap_socket_impl(sock, context, tls_in_tls)\n",
      "  File \"c:\\ProgramData\\Anaconda3\\envs\\MT\\lib\\site-packages\\urllib3\\util\\ssl_.py\", line 495, in _ssl_wrap_socket_impl\n",
      "    return ssl_context.wrap_socket(sock)\n",
      "  File \"c:\\ProgramData\\Anaconda3\\envs\\MT\\lib\\ssl.py\", line 500, in wrap_socket\n",
      "    return self.sslsocket_class._create(\n",
      "  File \"c:\\ProgramData\\Anaconda3\\envs\\MT\\lib\\ssl.py\", line 1040, in _create\n",
      "    self.do_handshake()\n",
      "  File \"c:\\ProgramData\\Anaconda3\\envs\\MT\\lib\\ssl.py\", line 1309, in do_handshake\n",
      "    self._sslobj.do_handshake()\n",
      "ssl.SSLEOFError: EOF occurred in violation of protocol (_ssl.c:1129)\n",
      "\n",
      "During handling of the above exception, another exception occurred:\n",
      "\n",
      "Traceback (most recent call last):\n",
      "  File \"c:\\ProgramData\\Anaconda3\\envs\\MT\\lib\\site-packages\\requests\\adapters.py\", line 440, in send\n",
      "    resp = conn.urlopen(\n",
      "  File \"c:\\ProgramData\\Anaconda3\\envs\\MT\\lib\\site-packages\\urllib3\\connectionpool.py\", line 785, in urlopen\n",
      "    retries = retries.increment(\n",
      "  File \"c:\\ProgramData\\Anaconda3\\envs\\MT\\lib\\site-packages\\urllib3\\util\\retry.py\", line 592, in increment\n",
      "    raise MaxRetryError(_pool, url, error or ResponseError(cause))\n",
      "urllib3.exceptions.MaxRetryError: HTTPSConnectionPool(host='api.wandb.ai', port=443): Max retries exceeded with url: /graphql (Caused by SSLError(SSLEOFError(8, 'EOF occurred in violation of protocol (_ssl.c:1129)')))\n",
      "\n",
      "During handling of the above exception, another exception occurred:\n",
      "\n",
      "Traceback (most recent call last):\n",
      "  File \"c:\\ProgramData\\Anaconda3\\envs\\MT\\lib\\site-packages\\wandb\\sdk\\lib\\retry.py\", line 102, in __call__\n",
      "    result = self._call_fn(*args, **kwargs)\n",
      "  File \"c:\\ProgramData\\Anaconda3\\envs\\MT\\lib\\site-packages\\wandb\\sdk\\internal\\internal_api.py\", line 140, in execute\n",
      "    return self.client.execute(*args, **kwargs)\n",
      "  File \"c:\\ProgramData\\Anaconda3\\envs\\MT\\lib\\site-packages\\wandb\\vendor\\gql-0.2.0\\wandb_gql\\client.py\", line 52, in execute\n",
      "    result = self._get_result(document, *args, **kwargs)\n",
      "  File \"c:\\ProgramData\\Anaconda3\\envs\\MT\\lib\\site-packages\\wandb\\vendor\\gql-0.2.0\\wandb_gql\\client.py\", line 60, in _get_result\n",
      "    return self.transport.execute(document, *args, **kwargs)\n",
      "  File \"c:\\ProgramData\\Anaconda3\\envs\\MT\\lib\\site-packages\\wandb\\vendor\\gql-0.2.0\\wandb_gql\\transport\\requests.py\", line 38, in execute\n",
      "    request = requests.post(self.url, **post_args)\n",
      "  File \"c:\\ProgramData\\Anaconda3\\envs\\MT\\lib\\site-packages\\requests\\api.py\", line 117, in post\n",
      "    return request('post', url, data=data, json=json, **kwargs)\n",
      "  File \"c:\\ProgramData\\Anaconda3\\envs\\MT\\lib\\site-packages\\requests\\api.py\", line 61, in request\n",
      "    return session.request(method=method, url=url, **kwargs)\n",
      "  File \"c:\\ProgramData\\Anaconda3\\envs\\MT\\lib\\site-packages\\requests\\sessions.py\", line 529, in request\n",
      "    resp = self.send(prep, **send_kwargs)\n",
      "  File \"c:\\ProgramData\\Anaconda3\\envs\\MT\\lib\\site-packages\\requests\\sessions.py\", line 645, in send\n",
      "    r = adapter.send(request, **kwargs)\n",
      "  File \"c:\\ProgramData\\Anaconda3\\envs\\MT\\lib\\site-packages\\requests\\adapters.py\", line 517, in send\n",
      "    raise SSLError(e, request=request)\n",
      "requests.exceptions.SSLError: HTTPSConnectionPool(host='api.wandb.ai', port=443): Max retries exceeded with url: /graphql (Caused by SSLError(SSLEOFError(8, 'EOF occurred in violation of protocol (_ssl.c:1129)')))\n",
      "\u001b[34m\u001b[1mwandb\u001b[0m: Network error (SSLError), entering retry loop.\n",
      "\u001b[34m\u001b[1mwandb\u001b[0m: W&B API key is configured. Use \u001b[1m`wandb login --relogin`\u001b[0m to force relogin\n",
      "\u001b[34m\u001b[1mwandb\u001b[0m: \u001b[33mWARNING\u001b[0m If you're specifying your api key in code, ensure this code is not shared publicly.\n",
      "\u001b[34m\u001b[1mwandb\u001b[0m: \u001b[33mWARNING\u001b[0m Consider setting the WANDB_API_KEY environment variable, or running `wandb login` from the command line.\n",
      "\u001b[34m\u001b[1mwandb\u001b[0m: Appending key for api.wandb.ai to your netrc file: C:\\Users\\Administrator/.netrc\n",
      "Retry attempt failed:\n",
      "Traceback (most recent call last):\n",
      "  File \"c:\\ProgramData\\Anaconda3\\envs\\MT\\lib\\site-packages\\urllib3\\connectionpool.py\", line 700, in urlopen\n",
      "    self._prepare_proxy(conn)\n",
      "  File \"c:\\ProgramData\\Anaconda3\\envs\\MT\\lib\\site-packages\\urllib3\\connectionpool.py\", line 994, in _prepare_proxy\n",
      "    conn.connect()\n",
      "  File \"c:\\ProgramData\\Anaconda3\\envs\\MT\\lib\\site-packages\\urllib3\\connection.py\", line 364, in connect\n",
      "    self.sock = conn = self._connect_tls_proxy(hostname, conn)\n",
      "  File \"c:\\ProgramData\\Anaconda3\\envs\\MT\\lib\\site-packages\\urllib3\\connection.py\", line 499, in _connect_tls_proxy\n",
      "    socket = ssl_wrap_socket(\n",
      "  File \"c:\\ProgramData\\Anaconda3\\envs\\MT\\lib\\site-packages\\urllib3\\util\\ssl_.py\", line 453, in ssl_wrap_socket\n",
      "    ssl_sock = _ssl_wrap_socket_impl(sock, context, tls_in_tls)\n",
      "  File \"c:\\ProgramData\\Anaconda3\\envs\\MT\\lib\\site-packages\\urllib3\\util\\ssl_.py\", line 495, in _ssl_wrap_socket_impl\n",
      "    return ssl_context.wrap_socket(sock)\n",
      "  File \"c:\\ProgramData\\Anaconda3\\envs\\MT\\lib\\ssl.py\", line 500, in wrap_socket\n",
      "    return self.sslsocket_class._create(\n",
      "  File \"c:\\ProgramData\\Anaconda3\\envs\\MT\\lib\\ssl.py\", line 1040, in _create\n",
      "    self.do_handshake()\n",
      "  File \"c:\\ProgramData\\Anaconda3\\envs\\MT\\lib\\ssl.py\", line 1309, in do_handshake\n",
      "    self._sslobj.do_handshake()\n",
      "ssl.SSLEOFError: EOF occurred in violation of protocol (_ssl.c:1129)\n",
      "\n",
      "During handling of the above exception, another exception occurred:\n",
      "\n",
      "Traceback (most recent call last):\n",
      "  File \"c:\\ProgramData\\Anaconda3\\envs\\MT\\lib\\site-packages\\requests\\adapters.py\", line 440, in send\n",
      "    resp = conn.urlopen(\n",
      "  File \"c:\\ProgramData\\Anaconda3\\envs\\MT\\lib\\site-packages\\urllib3\\connectionpool.py\", line 785, in urlopen\n",
      "    retries = retries.increment(\n",
      "  File \"c:\\ProgramData\\Anaconda3\\envs\\MT\\lib\\site-packages\\urllib3\\util\\retry.py\", line 592, in increment\n",
      "    raise MaxRetryError(_pool, url, error or ResponseError(cause))\n",
      "urllib3.exceptions.MaxRetryError: HTTPSConnectionPool(host='api.wandb.ai', port=443): Max retries exceeded with url: /graphql (Caused by SSLError(SSLEOFError(8, 'EOF occurred in violation of protocol (_ssl.c:1129)')))\n",
      "\n",
      "During handling of the above exception, another exception occurred:\n",
      "\n",
      "Traceback (most recent call last):\n",
      "  File \"c:\\ProgramData\\Anaconda3\\envs\\MT\\lib\\site-packages\\wandb\\sdk\\lib\\retry.py\", line 102, in __call__\n",
      "    result = self._call_fn(*args, **kwargs)\n",
      "  File \"c:\\ProgramData\\Anaconda3\\envs\\MT\\lib\\site-packages\\wandb\\sdk\\internal\\internal_api.py\", line 140, in execute\n",
      "    return self.client.execute(*args, **kwargs)\n",
      "  File \"c:\\ProgramData\\Anaconda3\\envs\\MT\\lib\\site-packages\\wandb\\vendor\\gql-0.2.0\\wandb_gql\\client.py\", line 52, in execute\n",
      "    result = self._get_result(document, *args, **kwargs)\n",
      "  File \"c:\\ProgramData\\Anaconda3\\envs\\MT\\lib\\site-packages\\wandb\\vendor\\gql-0.2.0\\wandb_gql\\client.py\", line 60, in _get_result\n",
      "    return self.transport.execute(document, *args, **kwargs)\n",
      "  File \"c:\\ProgramData\\Anaconda3\\envs\\MT\\lib\\site-packages\\wandb\\vendor\\gql-0.2.0\\wandb_gql\\transport\\requests.py\", line 38, in execute\n",
      "    request = requests.post(self.url, **post_args)\n",
      "  File \"c:\\ProgramData\\Anaconda3\\envs\\MT\\lib\\site-packages\\requests\\api.py\", line 117, in post\n",
      "    return request('post', url, data=data, json=json, **kwargs)\n",
      "  File \"c:\\ProgramData\\Anaconda3\\envs\\MT\\lib\\site-packages\\requests\\api.py\", line 61, in request\n",
      "    return session.request(method=method, url=url, **kwargs)\n",
      "  File \"c:\\ProgramData\\Anaconda3\\envs\\MT\\lib\\site-packages\\requests\\sessions.py\", line 529, in request\n",
      "    resp = self.send(prep, **send_kwargs)\n",
      "  File \"c:\\ProgramData\\Anaconda3\\envs\\MT\\lib\\site-packages\\requests\\sessions.py\", line 645, in send\n",
      "    r = adapter.send(request, **kwargs)\n",
      "  File \"c:\\ProgramData\\Anaconda3\\envs\\MT\\lib\\site-packages\\requests\\adapters.py\", line 517, in send\n",
      "    raise SSLError(e, request=request)\n",
      "requests.exceptions.SSLError: HTTPSConnectionPool(host='api.wandb.ai', port=443): Max retries exceeded with url: /graphql (Caused by SSLError(SSLEOFError(8, 'EOF occurred in violation of protocol (_ssl.c:1129)')))\n",
      "\u001b[34m\u001b[1mwandb\u001b[0m: Network error (SSLError), entering retry loop.\n"
     ]
    },
    {
     "ename": "KeyboardInterrupt",
     "evalue": "",
     "output_type": "error",
     "traceback": [
      "\u001b[1;31m---------------------------------------------------------------------------\u001b[0m",
      "\u001b[1;31mKeyboardInterrupt\u001b[0m                         Traceback (most recent call last)",
      "\u001b[1;32me:\\Persian-MT\\random.ipynb Cell 21\u001b[0m in \u001b[0;36m<cell line: 31>\u001b[1;34m()\u001b[0m\n\u001b[0;32m     <a href='vscode-notebook-cell:/e%3A/Persian-MT/random.ipynb#ch0000015?line=41'>42</a>\u001b[0m \u001b[39m# print(sg)\u001b[39;00m\n\u001b[0;32m     <a href='vscode-notebook-cell:/e%3A/Persian-MT/random.ipynb#ch0000015?line=42'>43</a>\u001b[0m \u001b[39mtry\u001b[39;00m:\n\u001b[1;32m---> <a href='vscode-notebook-cell:/e%3A/Persian-MT/random.ipynb#ch0000015?line=43'>44</a>\u001b[0m     exec(\u001b[39mopen\u001b[39;49m(\u001b[39m\"\u001b[39;49m\u001b[39m./Persian-MT.py\u001b[39;49m\u001b[39m\"\u001b[39;49m)\u001b[39m.\u001b[39;49mread())\n\u001b[0;32m     <a href='vscode-notebook-cell:/e%3A/Persian-MT/random.ipynb#ch0000015?line=44'>45</a>\u001b[0m \u001b[39mexcept\u001b[39;00m \u001b[39mException\u001b[39;00m \u001b[39mas\u001b[39;00m e:\n\u001b[0;32m     <a href='vscode-notebook-cell:/e%3A/Persian-MT/random.ipynb#ch0000015?line=45'>46</a>\u001b[0m     \u001b[39mprint\u001b[39m(\u001b[39m\"\u001b[39m\u001b[39mEroooooooo \u001b[39m\u001b[39m{}\u001b[39;00m\u001b[39m\"\u001b[39m\u001b[39m.\u001b[39mformat(sg[\u001b[39m'\u001b[39m\u001b[39mdata_dir\u001b[39m\u001b[39m'\u001b[39m]))\n",
      "File \u001b[1;32m<string>:36\u001b[0m, in \u001b[0;36m<module>\u001b[1;34m\u001b[0m\n",
      "File \u001b[1;32mc:\\ProgramData\\Anaconda3\\envs\\MT\\lib\\site-packages\\wandb\\sdk\\wandb_login.py:76\u001b[0m, in \u001b[0;36mlogin\u001b[1;34m(anonymous, key, relogin, host, force, timeout)\u001b[0m\n\u001b[0;32m     74\u001b[0m     \u001b[39mreturn\u001b[39;00m \u001b[39mTrue\u001b[39;00m\n\u001b[0;32m     75\u001b[0m kwargs \u001b[39m=\u001b[39m \u001b[39mdict\u001b[39m(\u001b[39mlocals\u001b[39m())\n\u001b[1;32m---> 76\u001b[0m configured \u001b[39m=\u001b[39m _login(\u001b[39m*\u001b[39m\u001b[39m*\u001b[39mkwargs)\n\u001b[0;32m     77\u001b[0m \u001b[39mreturn\u001b[39;00m \u001b[39mTrue\u001b[39;00m \u001b[39mif\u001b[39;00m configured \u001b[39melse\u001b[39;00m \u001b[39mFalse\u001b[39;00m\n",
      "File \u001b[1;32mc:\\ProgramData\\Anaconda3\\envs\\MT\\lib\\site-packages\\wandb\\sdk\\wandb_login.py:291\u001b[0m, in \u001b[0;36m_login\u001b[1;34m(anonymous, key, relogin, host, force, timeout, _backend, _silent, _disable_warning, _entity)\u001b[0m\n\u001b[0;32m    289\u001b[0m key \u001b[39m=\u001b[39m kwargs\u001b[39m.\u001b[39mget(\u001b[39m\"\u001b[39m\u001b[39mkey\u001b[39m\u001b[39m\"\u001b[39m)\n\u001b[0;32m    290\u001b[0m \u001b[39mif\u001b[39;00m key:\n\u001b[1;32m--> 291\u001b[0m     wlogin\u001b[39m.\u001b[39;49mconfigure_api_key(key)\n\u001b[0;32m    293\u001b[0m \u001b[39mif\u001b[39;00m logged_in:\n\u001b[0;32m    294\u001b[0m     \u001b[39mreturn\u001b[39;00m logged_in\n",
      "File \u001b[1;32mc:\\ProgramData\\Anaconda3\\envs\\MT\\lib\\site-packages\\wandb\\sdk\\wandb_login.py:176\u001b[0m, in \u001b[0;36m_WandbLogin.configure_api_key\u001b[1;34m(self, key)\u001b[0m\n\u001b[0;32m    169\u001b[0m     wandb\u001b[39m.\u001b[39mtermwarn(\n\u001b[0;32m    170\u001b[0m         \u001b[39m\"\u001b[39m\u001b[39mIf you\u001b[39m\u001b[39m'\u001b[39m\u001b[39mre specifying your api key in code, ensure this \u001b[39m\u001b[39m\"\u001b[39m\n\u001b[0;32m    171\u001b[0m         \u001b[39m\"\u001b[39m\u001b[39mcode is not shared publicly.\u001b[39m\u001b[39m\\n\u001b[39;00m\u001b[39mConsider setting the \u001b[39m\u001b[39m\"\u001b[39m\n\u001b[0;32m    172\u001b[0m         \u001b[39m\"\u001b[39m\u001b[39mWANDB_API_KEY environment variable, or running \u001b[39m\u001b[39m\"\u001b[39m\n\u001b[0;32m    173\u001b[0m         \u001b[39m\"\u001b[39m\u001b[39m`wandb login` from the command line.\u001b[39m\u001b[39m\"\u001b[39m\n\u001b[0;32m    174\u001b[0m     )\n\u001b[0;32m    175\u001b[0m apikey\u001b[39m.\u001b[39mwrite_key(\u001b[39mself\u001b[39m\u001b[39m.\u001b[39m_settings, key)\n\u001b[1;32m--> 176\u001b[0m \u001b[39mself\u001b[39;49m\u001b[39m.\u001b[39;49mupdate_session(key)\n\u001b[0;32m    177\u001b[0m \u001b[39mself\u001b[39m\u001b[39m.\u001b[39m_key \u001b[39m=\u001b[39m key\n",
      "File \u001b[1;32mc:\\ProgramData\\Anaconda3\\envs\\MT\\lib\\site-packages\\wandb\\sdk\\wandb_login.py:194\u001b[0m, in \u001b[0;36m_WandbLogin.update_session\u001b[1;34m(self, key, status)\u001b[0m\n\u001b[0;32m    191\u001b[0m \u001b[39m# Whenever the key changes, make sure to pull in user settings\u001b[39;00m\n\u001b[0;32m    192\u001b[0m \u001b[39m# from server.\u001b[39;00m\n\u001b[0;32m    193\u001b[0m \u001b[39mif\u001b[39;00m \u001b[39mnot\u001b[39;00m \u001b[39mself\u001b[39m\u001b[39m.\u001b[39m_wl\u001b[39m.\u001b[39msettings\u001b[39m.\u001b[39m_offline:\n\u001b[1;32m--> 194\u001b[0m     \u001b[39mself\u001b[39;49m\u001b[39m.\u001b[39;49m_wl\u001b[39m.\u001b[39;49m_update_user_settings()\n",
      "File \u001b[1;32mc:\\ProgramData\\Anaconda3\\envs\\MT\\lib\\site-packages\\wandb\\sdk\\wandb_setup.py:158\u001b[0m, in \u001b[0;36m_WandbSetup__WandbSetup._update_user_settings\u001b[1;34m(self, settings)\u001b[0m\n\u001b[0;32m    156\u001b[0m \u001b[39m# Get rid of cached results to force a refresh.\u001b[39;00m\n\u001b[0;32m    157\u001b[0m \u001b[39mself\u001b[39m\u001b[39m.\u001b[39m_server \u001b[39m=\u001b[39m \u001b[39mNone\u001b[39;00m\n\u001b[1;32m--> 158\u001b[0m user_settings \u001b[39m=\u001b[39m \u001b[39mself\u001b[39;49m\u001b[39m.\u001b[39;49m_load_user_settings(settings\u001b[39m=\u001b[39;49msettings)\n\u001b[0;32m    159\u001b[0m \u001b[39mif\u001b[39;00m user_settings \u001b[39mis\u001b[39;00m \u001b[39mnot\u001b[39;00m \u001b[39mNone\u001b[39;00m:\n\u001b[0;32m    160\u001b[0m     \u001b[39m# self._settings.unfreeze()\u001b[39;00m\n\u001b[0;32m    161\u001b[0m     \u001b[39mself\u001b[39m\u001b[39m.\u001b[39m_settings\u001b[39m.\u001b[39m_apply_user(user_settings)\n",
      "File \u001b[1;32mc:\\ProgramData\\Anaconda3\\envs\\MT\\lib\\site-packages\\wandb\\sdk\\wandb_setup.py:213\u001b[0m, in \u001b[0;36m_WandbSetup__WandbSetup._load_user_settings\u001b[1;34m(self, settings)\u001b[0m\n\u001b[0;32m    211\u001b[0m \u001b[39mdef\u001b[39;00m \u001b[39m_load_user_settings\u001b[39m(\u001b[39mself\u001b[39m, settings\u001b[39m=\u001b[39m\u001b[39mNone\u001b[39;00m) \u001b[39m-\u001b[39m\u001b[39m>\u001b[39m Optional[Dict[\u001b[39mstr\u001b[39m, Any]]:\n\u001b[0;32m    212\u001b[0m     \u001b[39mif\u001b[39;00m \u001b[39mself\u001b[39m\u001b[39m.\u001b[39m_server \u001b[39mis\u001b[39;00m \u001b[39mNone\u001b[39;00m:\n\u001b[1;32m--> 213\u001b[0m         \u001b[39mself\u001b[39;49m\u001b[39m.\u001b[39;49m_load_viewer(settings\u001b[39m=\u001b[39;49msettings)\n\u001b[0;32m    215\u001b[0m     \u001b[39m# offline?\u001b[39;00m\n\u001b[0;32m    216\u001b[0m     \u001b[39mif\u001b[39;00m \u001b[39mself\u001b[39m\u001b[39m.\u001b[39m_server \u001b[39mis\u001b[39;00m \u001b[39mNone\u001b[39;00m:\n",
      "File \u001b[1;32mc:\\ProgramData\\Anaconda3\\envs\\MT\\lib\\site-packages\\wandb\\sdk\\wandb_setup.py:208\u001b[0m, in \u001b[0;36m_WandbSetup__WandbSetup._load_viewer\u001b[1;34m(self, settings)\u001b[0m\n\u001b[0;32m    206\u001b[0m     \u001b[39mreturn\u001b[39;00m\n\u001b[0;32m    207\u001b[0m s \u001b[39m=\u001b[39m server\u001b[39m.\u001b[39mServer(settings\u001b[39m=\u001b[39msettings)\n\u001b[1;32m--> 208\u001b[0m s\u001b[39m.\u001b[39;49mquery_with_timeout()\n\u001b[0;32m    209\u001b[0m \u001b[39mself\u001b[39m\u001b[39m.\u001b[39m_server \u001b[39m=\u001b[39m s\n",
      "File \u001b[1;32mc:\\ProgramData\\Anaconda3\\envs\\MT\\lib\\site-packages\\wandb\\sdk\\lib\\server.py:29\u001b[0m, in \u001b[0;36mServer.query_with_timeout\u001b[1;34m(self, timeout)\u001b[0m\n\u001b[0;32m     27\u001b[0m async_viewer \u001b[39m=\u001b[39m util\u001b[39m.\u001b[39masync_call(\u001b[39mself\u001b[39m\u001b[39m.\u001b[39m_api\u001b[39m.\u001b[39mviewer_server_info, timeout\u001b[39m=\u001b[39mtimeout)\n\u001b[0;32m     28\u001b[0m \u001b[39mtry\u001b[39;00m:\n\u001b[1;32m---> 29\u001b[0m     viewer_tuple, viewer_thread \u001b[39m=\u001b[39m async_viewer()\n\u001b[0;32m     30\u001b[0m \u001b[39mexcept\u001b[39;00m \u001b[39mException\u001b[39;00m:\n\u001b[0;32m     31\u001b[0m     \u001b[39m# TODO: currently a bare exception as lots can happen, we should classify\u001b[39;00m\n\u001b[0;32m     32\u001b[0m     \u001b[39mself\u001b[39m\u001b[39m.\u001b[39m_error_network \u001b[39m=\u001b[39m \u001b[39mTrue\u001b[39;00m\n",
      "File \u001b[1;32mc:\\ProgramData\\Anaconda3\\envs\\MT\\lib\\site-packages\\wandb\\util.py:1087\u001b[0m, in \u001b[0;36masync_call.<locals>.wrapper\u001b[1;34m(*args, **kwargs)\u001b[0m\n\u001b[0;32m   1085\u001b[0m thread\u001b[39m.\u001b[39mstart()\n\u001b[0;32m   1086\u001b[0m \u001b[39mtry\u001b[39;00m:\n\u001b[1;32m-> 1087\u001b[0m     result \u001b[39m=\u001b[39m q\u001b[39m.\u001b[39;49mget(\u001b[39mTrue\u001b[39;49;00m, timeout)\n\u001b[0;32m   1088\u001b[0m     \u001b[39mif\u001b[39;00m \u001b[39misinstance\u001b[39m(result, \u001b[39mException\u001b[39;00m):\n\u001b[0;32m   1089\u001b[0m         \u001b[39mraise\u001b[39;00m result\u001b[39m.\u001b[39mwith_traceback(sys\u001b[39m.\u001b[39mexc_info()[\u001b[39m2\u001b[39m])\n",
      "File \u001b[1;32mc:\\ProgramData\\Anaconda3\\envs\\MT\\lib\\queue.py:180\u001b[0m, in \u001b[0;36mQueue.get\u001b[1;34m(self, block, timeout)\u001b[0m\n\u001b[0;32m    178\u001b[0m         \u001b[39mif\u001b[39;00m remaining \u001b[39m<\u001b[39m\u001b[39m=\u001b[39m \u001b[39m0.0\u001b[39m:\n\u001b[0;32m    179\u001b[0m             \u001b[39mraise\u001b[39;00m Empty\n\u001b[1;32m--> 180\u001b[0m         \u001b[39mself\u001b[39;49m\u001b[39m.\u001b[39;49mnot_empty\u001b[39m.\u001b[39;49mwait(remaining)\n\u001b[0;32m    181\u001b[0m item \u001b[39m=\u001b[39m \u001b[39mself\u001b[39m\u001b[39m.\u001b[39m_get()\n\u001b[0;32m    182\u001b[0m \u001b[39mself\u001b[39m\u001b[39m.\u001b[39mnot_full\u001b[39m.\u001b[39mnotify()\n",
      "File \u001b[1;32mc:\\ProgramData\\Anaconda3\\envs\\MT\\lib\\threading.py:316\u001b[0m, in \u001b[0;36mCondition.wait\u001b[1;34m(self, timeout)\u001b[0m\n\u001b[0;32m    314\u001b[0m \u001b[39melse\u001b[39;00m:\n\u001b[0;32m    315\u001b[0m     \u001b[39mif\u001b[39;00m timeout \u001b[39m>\u001b[39m \u001b[39m0\u001b[39m:\n\u001b[1;32m--> 316\u001b[0m         gotit \u001b[39m=\u001b[39m waiter\u001b[39m.\u001b[39;49macquire(\u001b[39mTrue\u001b[39;49;00m, timeout)\n\u001b[0;32m    317\u001b[0m     \u001b[39melse\u001b[39;00m:\n\u001b[0;32m    318\u001b[0m         gotit \u001b[39m=\u001b[39m waiter\u001b[39m.\u001b[39macquire(\u001b[39mFalse\u001b[39;00m)\n",
      "\u001b[1;31mKeyboardInterrupt\u001b[0m: "
     ]
    }
   ],
   "source": [
    "#Run\n",
    "import itertools\n",
    "import json\n",
    "\n",
    "models = ['./google/mt5-small']\n",
    "\n",
    "# models = ['./google/mt5-base']\n",
    "\n",
    "# datasets = ['./data/OS/af-fa',\n",
    "#  './data/OS/br-fa',\n",
    "#  './data/OS/eo-fa',\n",
    "#  './data/OS/fa-gl',\n",
    "#  './data/OS/fa-hi',\n",
    "#  './data/OS/fa-ka',\n",
    "#  './data/OS/fa-kk',\n",
    "#  './data/OS/fa-ta',\n",
    "#  './data/OS/fa-te',\n",
    "#  './data/OS/fa-tl',\n",
    "#  './data/OS/fa-ur',\n",
    "#  './data/OS/fa-ze_en']\n",
    "\n",
    "datasets = ['./data/Bible', './data/Quran']\n",
    "\n",
    "somelists = [\n",
    "   models,\n",
    "   datasets\n",
    "]\n",
    "# config_path = './Persian-MT/server_config.json'\n",
    "config_path = './server_config.json'\n",
    "\n",
    "for element in itertools.product(*somelists):\n",
    "    # print(element)\n",
    "    with open(config_path, 'r+') as f:\n",
    "        sg = json.load(f)\n",
    "        sg['model_repo'] = element[0]\n",
    "        sg['data_dir'] = element[1]\n",
    "\n",
    "    with open(config_path, 'w') as f:\n",
    "        sg = json.dumps(sg)\n",
    "        f.write(sg)\n",
    "    \n",
    "    # print(sg)\n",
    "    try:\n",
    "        exec(open(\"./Persian-MT.py\").read())\n",
    "    except Exception as e:\n",
    "        print(\"Eroooooooo {}\".format(sg['data_dir']))\n",
    "    print(\"_________________finish {}______________\".format(element))"
   ]
  },
  {
   "cell_type": "code",
   "execution_count": null,
   "metadata": {},
   "outputs": [],
   "source": []
  }
 ],
 "metadata": {
  "kernelspec": {
   "display_name": "Python 3.9.12 ('MT')",
   "language": "python",
   "name": "python3"
  },
  "language_info": {
   "codemirror_mode": {
    "name": "ipython",
    "version": 3
   },
   "file_extension": ".py",
   "mimetype": "text/x-python",
   "name": "python",
   "nbconvert_exporter": "python",
   "pygments_lexer": "ipython3",
   "version": "3.9.12"
  },
  "orig_nbformat": 4,
  "vscode": {
   "interpreter": {
    "hash": "8a0a98d9bd9245fe8b14280275e92449e09e1a03a1208e9a8270c5576b744648"
   }
  }
 },
 "nbformat": 4,
 "nbformat_minor": 2
}
