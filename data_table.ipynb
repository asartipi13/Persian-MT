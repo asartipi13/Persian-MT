{
 "cells": [
  {
   "cell_type": "code",
   "execution_count": 34,
   "metadata": {},
   "outputs": [],
   "source": [
    "import os, glob\n",
    "import pandas as pd\n",
    "\n",
    "gzs = './data/*/eda//*.csv'\n",
    "paths = glob.glob(gzs)"
   ]
  },
  {
   "cell_type": "code",
   "execution_count": 35,
   "metadata": {},
   "outputs": [],
   "source": [
    "# generate word level\n",
    "ds_names = []\n",
    "dfs = []\n",
    "for p in paths:\n",
    "    if 'infor_word' in p:\n",
    "        ds_names.append(p.split('\\\\')[1])\n",
    "        dfs.append(pd.read_csv(p))\n",
    "\n",
    "df = pd.concat(dfs)\n",
    "df['dataset'] = ds_names\n",
    "\n",
    "df = df[['dataset', 'avg_fa', 'min_fa', 'max_fa', '92%_fa', 'all_fa', 'unique_fa', 'avg_en',\n",
    "       'min_en', 'max_en', '92%_en', 'all_en', 'unique_en']]\n",
    "\n",
    "df.to_csv('./word_level_info.csv', index=False)"
   ]
  },
  {
   "cell_type": "code",
   "execution_count": 36,
   "metadata": {},
   "outputs": [],
   "source": [
    "# generate charachter level\n",
    "ds_names = []\n",
    "dfs = []\n",
    "for p in paths:\n",
    "    if 'infor_char' in p:\n",
    "        ds_names.append(p.split('\\\\')[1])\n",
    "        dfs.append(pd.read_csv(p))\n",
    "\n",
    "df = pd.concat(dfs)\n",
    "df['dataset'] = ds_names\n",
    "df = df[['dataset', 'avgc_fa', 'minc_fa', 'maxc_fa', 'avgc_en', 'minc_en', 'maxc_en']]\n",
    "df.to_csv('./char_level_info.csv', index=False)\n",
    "\n"
   ]
  },
  {
   "cell_type": "markdown",
   "metadata": {},
   "source": [
    "## spilit datasets\n"
   ]
  },
  {
   "cell_type": "code",
   "execution_count": 2,
   "metadata": {},
   "outputs": [],
   "source": [
    "import os, glob\n",
    "import pandas as pd\n",
    "from sklearn.model_selection import train_test_split"
   ]
  },
  {
   "cell_type": "code",
   "execution_count": null,
   "metadata": {},
   "outputs": [],
   "source": [
    "datasets = ['Mizan', 'PEPC_Bidirectional', 'PEPC_Onedirectional', 'TEP', 'TEP++']\n",
    "root = './data/'\n",
    "\n",
    "for d in datasets:\n",
    "    paths = glob.glob('{}/{}/*'.format(root, d))\n",
    "\n",
    "    train_path = '{}/{}/train.csv'.format(root, d)\n",
    "    test_path = '{}/{}/test.csv'.format(root, d)\n",
    "    dev_path = '{}/{}/dev.csv'.format(root, d)\n",
    "\n",
    "    for p in paths:\n",
    "        if 'en-fa.csv' in p:\n",
    "            df = pd.read_csv(p)\n",
    "\n",
    "    df = df.sample(frac=1).reset_index(drop=True)\n",
    "    df_dev = df[:5000]\n",
    "    if len(df) > 1e+6:\n",
    "        df_train, df_test = train_test_split(df[5000:], test_size=0.01, random_state=42)\n",
    "    else:\n",
    "        df_train, df_test = train_test_split(df[5000:], test_size=0.1, random_state=42)\n",
    "    \n",
    "    print(\"{}\".format(d))\n",
    "    print(\"{} ||| {}\".format(len(df), len(df_train)+len(df_test)+ len(df_dev)))\n",
    "    print(\"df_train:\", len(df_train))\n",
    "    print(\"df_test:\", len(df_test))\n",
    "    print(\"df_dev:\", len(df_dev))\n",
    "    print(\"_____________________\")\n",
    "    df_train.to_csv(train_path, index=False)\n",
    "    df_test.to_csv(test_path, index=False)\n",
    "    df_dev.to_csv(dev_path, index=False)\n"
   ]
  },
  {
   "cell_type": "markdown",
   "metadata": {},
   "source": [
    "## dataset each file count\n"
   ]
  },
  {
   "cell_type": "code",
   "execution_count": 9,
   "metadata": {},
   "outputs": [],
   "source": [
    "import os, glob\n",
    "import pandas as pd"
   ]
  },
  {
   "cell_type": "code",
   "execution_count": 18,
   "metadata": {},
   "outputs": [],
   "source": [
    "datasets = ['Mizan', 'PEPC_Bidirectional', 'PEPC_Onedirectional', 'TEP', 'TEP++', 'OpenSubtitles']\n",
    "root = './data/'\n",
    "\n",
    "df = pd.DataFrame({})\n",
    "for d in datasets:\n",
    "    paths = glob.glob('{}/{}/*'.format(root, d))\n",
    "\n",
    "    train_path = '{}/{}/train.csv'.format(root, d)\n",
    "    test_path = '{}/{}/test.csv'.format(root, d)\n",
    "    dev_path = '{}/{}/dev.csv'.format(root, d)\n",
    "    \n",
    "    df_train = pd.read_csv(train_path)\n",
    "    df_test = pd.read_csv(test_path)\n",
    "    df_dev = pd.read_csv(dev_path)\n",
    "   \n",
    "    line ={'datasets': d,\n",
    "            'train': int(len(df_train)),\n",
    "            'dev': int(len(df_dev)),\n",
    "            'test': int(len(df_test)),\n",
    "            'all': int(len(df_train)) + int(len(df_dev)) + int(len(df_test))}\n",
    "\n",
    "    df = df.append(line, ignore_index=True)\n",
    "    # break\n",
    "\n",
    "df.to_csv('dataset_info.csv', index=False)\n"
   ]
  }
 ],
 "metadata": {
  "interpreter": {
   "hash": "008b0f992822207dc3371086db865f2e3d549e6d0b94b092d243da12ff3366e0"
  },
  "kernelspec": {
   "display_name": "Python 3.8.12 64-bit ('AI': conda)",
   "name": "python3"
  },
  "language_info": {
   "codemirror_mode": {
    "name": "ipython",
    "version": 3
   },
   "file_extension": ".py",
   "mimetype": "text/x-python",
   "name": "python",
   "nbconvert_exporter": "python",
   "pygments_lexer": "ipython3",
   "version": "3.8.12"
  },
  "orig_nbformat": 4
 },
 "nbformat": 4,
 "nbformat_minor": 2
}
