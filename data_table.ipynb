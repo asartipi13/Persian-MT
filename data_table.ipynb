{
 "cells": [
  {
   "cell_type": "code",
   "execution_count": 20,
   "metadata": {},
   "outputs": [],
   "source": [
    "import os, glob\n",
    "import pandas as pd\n",
    "\n",
    "gzs = './data/*/eda//*.csv'\n",
    "paths = glob.glob(gzs)"
   ]
  },
  {
   "cell_type": "code",
   "execution_count": 23,
   "metadata": {},
   "outputs": [],
   "source": [
    "# generate word level\n",
    "ds_names = []\n",
    "dfs = []\n",
    "for p in paths:\n",
    "    if 'infor_word' in p:\n",
    "        ds_names.append(p.split('\\\\')[1])\n",
    "        dfs.append(pd.read_csv(p))\n",
    "\n",
    "df = pd.concat(dfs)\n",
    "df.to_csv('./word_level_info.csv', index=False)\n",
    "\n"
   ]
  },
  {
   "cell_type": "code",
   "execution_count": null,
   "metadata": {},
   "outputs": [],
   "source": [
    "# generate charachter level\n",
    "ds_names = []\n",
    "dfs = []\n",
    "for p in paths:\n",
    "    if 'infor_char' in p:\n",
    "        ds_names.append(p.split('\\\\')[1])\n",
    "        dfs.append(pd.read_csv(p))\n",
    "\n",
    "df = pd.concat(dfs)\n",
    "df.to_csv('./char_level_info.csv', index=False)\n",
    "\n"
   ]
  }
 ],
 "metadata": {
  "interpreter": {
   "hash": "008b0f992822207dc3371086db865f2e3d549e6d0b94b092d243da12ff3366e0"
  },
  "kernelspec": {
   "display_name": "Python 3.8.12 64-bit ('AI': conda)",
   "name": "python3"
  },
  "language_info": {
   "codemirror_mode": {
    "name": "ipython",
    "version": 3
   },
   "file_extension": ".py",
   "mimetype": "text/x-python",
   "name": "python",
   "nbconvert_exporter": "python",
   "pygments_lexer": "ipython3",
   "version": "3.8.12"
  },
  "orig_nbformat": 4
 },
 "nbformat": 4,
 "nbformat_minor": 2
}
