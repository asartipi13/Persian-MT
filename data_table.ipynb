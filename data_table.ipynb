{
 "cells": [
  {
   "cell_type": "markdown",
   "metadata": {},
   "source": [
    "## get all stats"
   ]
  },
  {
   "cell_type": "code",
   "execution_count": 1,
   "metadata": {},
   "outputs": [],
   "source": [
    "import os, glob\n",
    "import pandas as pd\n",
    "\n",
    "gzs = './data/*/eda//*.csv'\n",
    "paths = glob.glob(gzs)"
   ]
  },
  {
   "cell_type": "code",
   "execution_count": 2,
   "metadata": {},
   "outputs": [],
   "source": [
    "# generate word level\n",
    "ds_names = []\n",
    "dfs = []\n",
    "for p in paths:\n",
    "    if 'infor_word' in p:\n",
    "        ds_names.append(p.split('\\\\')[1])\n",
    "        dfs.append(pd.read_csv(p))\n",
    "\n",
    "df = pd.concat(dfs)\n",
    "df['dataset'] = ds_names\n",
    "\n",
    "df = df[['dataset', 'avg_fa', 'min_fa', 'max_fa', '92%_fa', 'all_fa', 'unique_fa', 'avg_en',\n",
    "       'min_en', 'max_en', '92%_en', 'all_en', 'unique_en']]\n",
    "\n",
    "df.to_csv('./word_level_info.csv', index=False)"
   ]
  },
  {
   "cell_type": "code",
   "execution_count": 3,
   "metadata": {},
   "outputs": [],
   "source": [
    "# generate charachter level\n",
    "ds_names = []\n",
    "dfs = []\n",
    "for p in paths:\n",
    "    if 'infor_char' in p:\n",
    "        ds_names.append(p.split('\\\\')[1])\n",
    "        dfs.append(pd.read_csv(p))\n",
    "\n",
    "df = pd.concat(dfs)\n",
    "df['dataset'] = ds_names\n",
    "df = df[['dataset', 'avgc_fa', 'minc_fa', 'maxc_fa', 'avgc_en', 'minc_en', 'maxc_en']]\n",
    "df.to_csv('./char_level_info.csv', index=False)\n",
    "\n"
   ]
  },
  {
   "cell_type": "markdown",
   "metadata": {},
   "source": [
    "## spilit datasets\n"
   ]
  },
  {
   "cell_type": "code",
   "execution_count": 2,
   "metadata": {},
   "outputs": [],
   "source": [
    "import os, glob\n",
    "import pandas as pd\n",
    "from sklearn.model_selection import train_test_split"
   ]
  },
  {
   "cell_type": "code",
   "execution_count": 3,
   "metadata": {},
   "outputs": [
    {
     "name": "stdout",
     "output_type": "stream",
     "text": [
      "Bible\n",
      "62033 ||| 62033\n",
      "df_train: 51329\n",
      "df_test: 5704\n",
      "df_dev: 5000\n",
      "_____________________\n"
     ]
    }
   ],
   "source": [
    "datasets = ['Mizan', 'PEPC_Bidirectional', 'PEPC_Onedirectional', 'TEP', 'TEP++', 'Quran', 'Bible']\n",
    "datasets = ['Bible',]\n",
    "\n",
    "root = './data/'\n",
    "\n",
    "for d in datasets:\n",
    "    paths = glob.glob('{}/{}/*'.format(root, d))\n",
    "\n",
    "    train_path = '{}/{}/train.csv'.format(root, d)\n",
    "    test_path = '{}/{}/test.csv'.format(root, d)\n",
    "    dev_path = '{}/{}/dev.csv'.format(root, d)\n",
    "\n",
    "    for p in paths:\n",
    "        if 'en-fa.csv' in p:\n",
    "            df = pd.read_csv(p)\n",
    "\n",
    "    df = df.sample(frac=1).reset_index(drop=True)\n",
    "    df_dev = df[:5000]\n",
    "    if len(df) > 1e+6:\n",
    "        df_train, df_test = train_test_split(df[5000:], test_size=0.01, random_state=42)\n",
    "    else:\n",
    "        df_train, df_test = train_test_split(df[5000:], test_size=0.1, random_state=42)\n",
    "    \n",
    "    print(\"{}\".format(d))\n",
    "    print(\"{} ||| {}\".format(len(df), len(df_train)+len(df_test)+ len(df_dev)))\n",
    "    print(\"df_train:\", len(df_train))\n",
    "    print(\"df_test:\", len(df_test))\n",
    "    print(\"df_dev:\", len(df_dev))\n",
    "    print(\"_____________________\")\n",
    "    df_train.to_csv(train_path, index=False)\n",
    "    df_test.to_csv(test_path, index=False)\n",
    "    df_dev.to_csv(dev_path, index=False)\n"
   ]
  },
  {
   "cell_type": "markdown",
   "metadata": {},
   "source": [
    "## dataset each file count\n"
   ]
  },
  {
   "cell_type": "code",
   "execution_count": 4,
   "metadata": {},
   "outputs": [],
   "source": [
    "import os, glob\n",
    "import pandas as pd"
   ]
  },
  {
   "cell_type": "code",
   "execution_count": 5,
   "metadata": {},
   "outputs": [],
   "source": [
    "datasets = ['Mizan', 'PEPC_Bidirectional', 'PEPC_Onedirectional', 'TEP', 'TEP++', 'OpenSubtitles', 'Bible', 'Quran', 'ParsiNLU']\n",
    "root = './data/'\n",
    "\n",
    "df = pd.DataFrame({})\n",
    "for d in datasets:\n",
    "    paths = glob.glob('{}/{}/*'.format(root, d))\n",
    "\n",
    "    train_path = '{}/{}/train.csv'.format(root, d)\n",
    "    test_path = '{}/{}/test.csv'.format(root, d)\n",
    "    dev_path = '{}/{}/dev.csv'.format(root, d)\n",
    "    \n",
    "    df_train = pd.read_csv(train_path)\n",
    "    df_test = pd.read_csv(test_path)\n",
    "    df_dev = pd.read_csv(dev_path)\n",
    "   \n",
    "    line ={'datasets': d,\n",
    "            'train': int(len(df_train)),\n",
    "            'dev': int(len(df_dev)),\n",
    "            'test': int(len(df_test)),\n",
    "            'all': int(len(df_train)) + int(len(df_dev)) + int(len(df_test))}\n",
    "\n",
    "    df = df.append(line, ignore_index=True)\n",
    "    # break\n",
    "\n",
    "df.to_csv('dataset_info.csv', index=False)\n"
   ]
  },
  {
   "cell_type": "markdown",
   "metadata": {},
   "source": [
    "## parsiNLU"
   ]
  },
  {
   "cell_type": "code",
   "execution_count": 9,
   "metadata": {},
   "outputs": [],
   "source": [
    "import pandas as pd"
   ]
  },
  {
   "cell_type": "code",
   "execution_count": 10,
   "metadata": {},
   "outputs": [],
   "source": [
    "dir_en_fa = './data/ParsiNLU/en-fa/'\n",
    "dir_fa_en = './data/ParsiNLU/fa-en/'"
   ]
  },
  {
   "cell_type": "code",
   "execution_count": 15,
   "metadata": {},
   "outputs": [],
   "source": [
    "df_fa_en_train = pd.read_csv(dir_fa_en+'train.tsv', sep='\\t', on_bad_lines='skip')\n",
    "df_fa_en_dev = pd.read_csv(dir_fa_en+'dev.tsv', sep='\\t', on_bad_lines='skip')\n",
    "df_fa_en_test = pd.read_csv(dir_fa_en+'test.tsv', sep='\\t',on_bad_lines='skip')"
   ]
  },
  {
   "cell_type": "code",
   "execution_count": 37,
   "metadata": {},
   "outputs": [],
   "source": [
    "df_en_fa_train = pd.read_csv(dir_en_fa+'train.tsv', sep='\\t', on_bad_lines='skip', names=['en', 'fa', 'src'])\n",
    "df_en_fa_dev = pd.read_csv(dir_en_fa+'dev.tsv', sep='\\t', on_bad_lines='skip', names=['en', 'fa', 'src'])\n",
    "df_en_fa_test = pd.read_csv(dir_en_fa+'test.tsv', sep='\\t',on_bad_lines='skip', names=['en', 'fa', 'src'])"
   ]
  },
  {
   "cell_type": "code",
   "execution_count": 39,
   "metadata": {},
   "outputs": [],
   "source": [
    "df_en_fa_train[['en', 'fa']].to_csv('./data/ParsiNLU/train.csv', index=False)\n",
    "df_en_fa_dev[['en', 'fa']].to_csv('./data/ParsiNLU/dev.csv', index=False)\n",
    "df_en_fa_test[['en', 'fa']].to_csv('./data/ParsiNLU/test.csv', index=False)"
   ]
  },
  {
   "cell_type": "code",
   "execution_count": 41,
   "metadata": {},
   "outputs": [],
   "source": [
    "pd.concat([df_en_fa_train, df_en_fa_dev, df_en_fa_test])[['en', 'fa']].to_csv(\"./data/ParsiNLU/en-fa.csv\", index=False)"
   ]
  },
  {
   "cell_type": "markdown",
   "metadata": {},
   "source": [
    "## get experiment results"
   ]
  },
  {
   "cell_type": "code",
   "execution_count": null,
   "metadata": {},
   "outputs": [],
   "source": [
    "import os, glob\n",
    "import pandas as pd\n",
    "\n",
    "gzs_1 = './outs/.*'\n",
    "gzs_2 = './outs/*'\n",
    "paths = glob.glob(gzs_1) + glob.glob(gzs_2)\n",
    "\n",
    "\n",
    "cols = ['data', 'mt5-small', 'mt5-base', 'mt5-large', 'mt5-xlarg', 'distilled-600M','distilled-1.3B']\n",
    "\n",
    "datasets = ['Mizan', 'Bidirectional', 'Onedirectional', 'TEP', 'TEP++', 'Quran', 'Bible',  \"ParsiNLU\", \"OpenSubtitles\"]\n",
    "\n",
    "info_en_fa = {}\n",
    "info_fa_en = {} \n",
    "for c in cols[1:]:\n",
    "    info_en_fa[c] = {}\n",
    "    info_fa_en[c] = {}\n",
    "    for d in datasets:\n",
    "        info_en_fa[c][d] = -1\n",
    "        info_fa_en[c][d] = -1"
   ]
  },
  {
   "cell_type": "code",
   "execution_count": null,
   "metadata": {},
   "outputs": [],
   "source": [
    "for p in paths:\n",
    "    model = p.split(\"\\\\\")[1].split('_')[0]\n",
    "    model = '-'.join(model.split('-')[-2:])\n",
    "    dataset = p.split(\"\\\\\")[1].split('_')[-4]\n",
    "    way = '{}_{}'.format(p.split(\"\\\\\")[1].split('_')[-3],p.split(\"\\\\\")[1].split('_')[-2])\n",
    "    df = pd.read_csv(p + '/bl_score_{}.csv'.format(way))\n",
    "    score = df['blue_score'].values[0] * 100\n",
    "\n",
    "    if way == 'fa_en':\n",
    "        info_fa_en[model][dataset] = score\n",
    "    else:\n",
    "        info_en_fa[model][dataset] = score\n",
    "\n",
    "\n",
    "\n",
    "df_en_fa = pd.DataFrame(info_en_fa)\n",
    "df_fa_en = pd.DataFrame(info_fa_en)\n",
    "\n",
    "df_en_fa['dataset'] = list(info_en_fa ['mt5-small'].keys())\n",
    "df_fa_en['dataset'] = list(info_en_fa ['mt5-small'].keys())\n",
    "\n",
    "cols = df_en_fa.columns.tolist()\n",
    "cols = cols[-1:] + cols[:-1]\n",
    "\n",
    "df_en_fa = df_en_fa[cols]\n",
    "df_fa_en = df_fa_en[cols]\n",
    "\n",
    "df_f = pd.concat([df_en_fa, df_fa_en.reindex(df_en_fa.index)], axis=1)\n",
    "\n",
    "df_en_fa.to_csv(\"./en_fa.csv\", index=False)\n",
    "df_fa_en.to_csv(\"./fa_en.csv\", index=False)\n",
    "\n",
    "df_f.drop(columns=['dataset'], inplace=True)\n",
    "df_f.to_csv(\"./final.csv\")"
   ]
  },
  {
   "cell_type": "markdown",
   "metadata": {},
   "source": [
    "## generate different bleu scores"
   ]
  },
  {
   "cell_type": "code",
   "execution_count": 3,
   "metadata": {},
   "outputs": [],
   "source": [
    "import os, glob\n",
    "import pandas as pd\n",
    "from torchmetrics.functional import sacre_bleu_score\n",
    "\n",
    "\n",
    "gzs_1 = './outs/.*'\n",
    "gzs_2 = './outs/*'\n",
    "paths = glob.glob(gzs_1) + glob.glob(gzs_2)\n",
    "\n",
    "def get_blue_score(df_test, predicted_target, max_n, tar):\n",
    "    target = list(df_test[tar].values)[:len(predicted_target)]\n",
    "    real_target = [[sent] for sent in target]\n",
    "    bl_score = sacre_bleu_score(predicted_target, real_target, n_gram=max_n)\n",
    "    return bl_score.item()\n"
   ]
  },
  {
   "cell_type": "code",
   "execution_count": 25,
   "metadata": {},
   "outputs": [
    {
     "name": "stdout",
     "output_type": "stream",
     "text": [
      "fa_en\n",
      "./outs\\.-google-mt5-small_Bible_fa_en_7/predicted_fa_en.csv\n"
     ]
    }
   ],
   "source": [
    "ngrams = [3, 4, 5, 6, 7]\n",
    "data_dir = './data/'\n",
    "for p in paths:\n",
    "    xgrams = []\n",
    "    way = '{}_{}'.format(p.split(\"\\\\\")[1].split('_')[-3],p.split(\"\\\\\")[1].split('_')[-2])\n",
    "    target = p.split(\"\\\\\")[1].split('_')[-2]\n",
    "    dataset = p.split(\"\\\\\")[1].split('_')[-4]\n",
    "    print(way)\n",
    "    data = pd.read_csv(data_dir + dataset + '/test.csv')\n",
    "    predicted = pd.read_csv(p + '/predicted_{}.csv'.format(way))\n",
    "    print(p + '/predicted_{}.csv'.format(way))\n",
    "    \n",
    "    df_ngrams = pd.DataFrame(columns=['ngrams'])\n",
    "   \n",
    "    # for max_n in ngrams:\n",
    "    #     bl_score = get_blue_score(data, predicted['predicted'], max_n, target)\n",
    "    #     xgrams.append(bl_score)\n",
    "    # df_ngrams['ngrams'] = xgrams\n",
    "    break"
   ]
  },
  {
   "cell_type": "code",
   "execution_count": 28,
   "metadata": {},
   "outputs": [
    {
     "data": {
      "text/plain": [
       "'./outs\\\\.-google-mt5-small_Bible_fa_en_7'"
      ]
     },
     "execution_count": 28,
     "metadata": {},
     "output_type": "execute_result"
    }
   ],
   "source": [
    "p"
   ]
  },
  {
   "cell_type": "code",
   "execution_count": 26,
   "metadata": {},
   "outputs": [
    {
     "data": {
      "text/plain": [
       "0       He commanded the foremost, saying, When Esau, ...\n",
       "1       And they shall take all the instruments of min...\n",
       "2       when I made clouds its garment, and wrapped it...\n",
       "3       For the Sadducees say that there is no resurre...\n",
       "4       A worthy woman is the crown of her husband, bu...\n",
       "                              ...                        \n",
       "5699    Six days you shall gather it, but on the seven...\n",
       "5700    and the Living one. I was dead, and behold, I ...\n",
       "5701    There were therefore seven brothers. The first...\n",
       "5702    Who is like unto thee, O LORD, among the gods?...\n",
       "5703    Be in pain, and labor to bring forth, daughter...\n",
       "Name: en, Length: 5704, dtype: object"
      ]
     },
     "execution_count": 26,
     "metadata": {},
     "output_type": "execute_result"
    }
   ],
   "source": [
    "data[target]"
   ]
  },
  {
   "cell_type": "code",
   "execution_count": 27,
   "metadata": {},
   "outputs": [
    {
     "data": {
      "text/html": [
       "<div>\n",
       "<style scoped>\n",
       "    .dataframe tbody tr th:only-of-type {\n",
       "        vertical-align: middle;\n",
       "    }\n",
       "\n",
       "    .dataframe tbody tr th {\n",
       "        vertical-align: top;\n",
       "    }\n",
       "\n",
       "    .dataframe thead th {\n",
       "        text-align: right;\n",
       "    }\n",
       "</style>\n",
       "<table border=\"1\" class=\"dataframe\">\n",
       "  <thead>\n",
       "    <tr style=\"text-align: right;\">\n",
       "      <th></th>\n",
       "      <th>Unnamed: 0</th>\n",
       "      <th>predicted</th>\n",
       "    </tr>\n",
       "  </thead>\n",
       "  <tbody>\n",
       "    <tr>\n",
       "      <th>0</th>\n",
       "      <td>0</td>\n",
       "      <td>So the men of his city, even the elders and th...</td>\n",
       "    </tr>\n",
       "    <tr>\n",
       "      <th>1</th>\n",
       "      <td>1</td>\n",
       "      <td>Our God shall come, and shall not keep silence...</td>\n",
       "    </tr>\n",
       "    <tr>\n",
       "      <th>2</th>\n",
       "      <td>2</td>\n",
       "      <td>I am distressed for you, my brother Jonathan. ...</td>\n",
       "    </tr>\n",
       "    <tr>\n",
       "      <th>3</th>\n",
       "      <td>3</td>\n",
       "      <td>He took the elders of the city, and thorns of ...</td>\n",
       "    </tr>\n",
       "    <tr>\n",
       "      <th>4</th>\n",
       "      <td>4</td>\n",
       "      <td>And God said unto Jacob, Arise, go up unto Bet...</td>\n",
       "    </tr>\n",
       "    <tr>\n",
       "      <th>...</th>\n",
       "      <td>...</td>\n",
       "      <td>...</td>\n",
       "    </tr>\n",
       "    <tr>\n",
       "      <th>5691</th>\n",
       "      <td>5691</td>\n",
       "      <td>When all who knew him before saw that, behold,...</td>\n",
       "    </tr>\n",
       "    <tr>\n",
       "      <th>5692</th>\n",
       "      <td>5692</td>\n",
       "      <td>Ye shall walk in all the ways which the LORD y...</td>\n",
       "    </tr>\n",
       "    <tr>\n",
       "      <th>5693</th>\n",
       "      <td>5693</td>\n",
       "      <td>And they shall go away in everlasting afflicti...</td>\n",
       "    </tr>\n",
       "    <tr>\n",
       "      <th>5694</th>\n",
       "      <td>5694</td>\n",
       "      <td>Jesus said furthermore, I am with you a little...</td>\n",
       "    </tr>\n",
       "    <tr>\n",
       "      <th>5695</th>\n",
       "      <td>5695</td>\n",
       "      <td>And he said, Blessed be the LORD God of my mas...</td>\n",
       "    </tr>\n",
       "  </tbody>\n",
       "</table>\n",
       "<p>5696 rows × 2 columns</p>\n",
       "</div>"
      ],
      "text/plain": [
       "      Unnamed: 0                                          predicted\n",
       "0              0  So the men of his city, even the elders and th...\n",
       "1              1  Our God shall come, and shall not keep silence...\n",
       "2              2  I am distressed for you, my brother Jonathan. ...\n",
       "3              3  He took the elders of the city, and thorns of ...\n",
       "4              4  And God said unto Jacob, Arise, go up unto Bet...\n",
       "...          ...                                                ...\n",
       "5691        5691  When all who knew him before saw that, behold,...\n",
       "5692        5692  Ye shall walk in all the ways which the LORD y...\n",
       "5693        5693  And they shall go away in everlasting afflicti...\n",
       "5694        5694  Jesus said furthermore, I am with you a little...\n",
       "5695        5695  And he said, Blessed be the LORD God of my mas...\n",
       "\n",
       "[5696 rows x 2 columns]"
      ]
     },
     "execution_count": 27,
     "metadata": {},
     "output_type": "execute_result"
    }
   ],
   "source": [
    "predicted"
   ]
  }
 ],
 "metadata": {
  "interpreter": {
   "hash": "008b0f992822207dc3371086db865f2e3d549e6d0b94b092d243da12ff3366e0"
  },
  "kernelspec": {
   "display_name": "Python 3.8.12 64-bit ('AI': conda)",
   "name": "python3"
  },
  "language_info": {
   "codemirror_mode": {
    "name": "ipython",
    "version": 3
   },
   "file_extension": ".py",
   "mimetype": "text/x-python",
   "name": "python",
   "nbconvert_exporter": "python",
   "pygments_lexer": "ipython3",
   "version": "3.8.12"
  },
  "orig_nbformat": 4
 },
 "nbformat": 4,
 "nbformat_minor": 2
}
