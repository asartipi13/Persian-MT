{
 "cells": [
  {
   "cell_type": "markdown",
   "metadata": {},
   "source": [
    "## get all stats"
   ]
  },
  {
   "cell_type": "code",
   "execution_count": 1,
   "metadata": {},
   "outputs": [],
   "source": [
    "import os, glob\n",
    "import pandas as pd\n",
    "\n",
    "gzs = './data/*/eda//*.csv'\n",
    "paths = glob.glob(gzs)"
   ]
  },
  {
   "cell_type": "code",
   "execution_count": 2,
   "metadata": {},
   "outputs": [],
   "source": [
    "# generate word level\n",
    "ds_names = []\n",
    "dfs = []\n",
    "for p in paths:\n",
    "    if 'infor_word' in p:\n",
    "        ds_names.append(p.split('\\\\')[1])\n",
    "        dfs.append(pd.read_csv(p))\n",
    "\n",
    "df = pd.concat(dfs)\n",
    "df['dataset'] = ds_names\n",
    "\n",
    "df = df[['dataset', 'avg_fa', 'min_fa', 'max_fa', '92%_fa', 'all_fa', 'unique_fa', 'avg_en',\n",
    "       'min_en', 'max_en', '92%_en', 'all_en', 'unique_en']]\n",
    "\n",
    "df.to_csv('./word_level_info.csv', index=False)"
   ]
  },
  {
   "cell_type": "code",
   "execution_count": 3,
   "metadata": {},
   "outputs": [],
   "source": [
    "# generate charachter level\n",
    "ds_names = []\n",
    "dfs = []\n",
    "for p in paths:\n",
    "    if 'infor_char' in p:\n",
    "        ds_names.append(p.split('\\\\')[1])\n",
    "        dfs.append(pd.read_csv(p))\n",
    "\n",
    "df = pd.concat(dfs)\n",
    "df['dataset'] = ds_names\n",
    "df = df[['dataset', 'avgc_fa', 'minc_fa', 'maxc_fa', 'avgc_en', 'minc_en', 'maxc_en']]\n",
    "df.to_csv('./char_level_info.csv', index=False)\n",
    "\n"
   ]
  },
  {
   "cell_type": "markdown",
   "metadata": {},
   "source": [
    "## spilit datasets\n"
   ]
  },
  {
   "cell_type": "code",
   "execution_count": 2,
   "metadata": {},
   "outputs": [],
   "source": [
    "import os, glob\n",
    "import pandas as pd\n",
    "from sklearn.model_selection import train_test_split"
   ]
  },
  {
   "cell_type": "code",
   "execution_count": 3,
   "metadata": {},
   "outputs": [
    {
     "name": "stdout",
     "output_type": "stream",
     "text": [
      "Bible\n",
      "62033 ||| 62033\n",
      "df_train: 51329\n",
      "df_test: 5704\n",
      "df_dev: 5000\n",
      "_____________________\n"
     ]
    }
   ],
   "source": [
    "datasets = ['Mizan', 'PEPC_Bidirectional', 'PEPC_Onedirectional', 'TEP', 'TEP++', 'Quran', 'Bible']\n",
    "datasets = ['Bible',]\n",
    "\n",
    "root = './data/'\n",
    "\n",
    "for d in datasets:\n",
    "    paths = glob.glob('{}/{}/*'.format(root, d))\n",
    "\n",
    "    train_path = '{}/{}/train.csv'.format(root, d)\n",
    "    test_path = '{}/{}/test.csv'.format(root, d)\n",
    "    dev_path = '{}/{}/dev.csv'.format(root, d)\n",
    "\n",
    "    for p in paths:\n",
    "        if 'en-fa.csv' in p:\n",
    "            df = pd.read_csv(p)\n",
    "\n",
    "    df = df.sample(frac=1).reset_index(drop=True)\n",
    "    df_dev = df[:5000]\n",
    "    if len(df) > 1e+6:\n",
    "        df_train, df_test = train_test_split(df[5000:], test_size=0.01, random_state=42)\n",
    "    else:\n",
    "        df_train, df_test = train_test_split(df[5000:], test_size=0.1, random_state=42)\n",
    "    \n",
    "    print(\"{}\".format(d))\n",
    "    print(\"{} ||| {}\".format(len(df), len(df_train)+len(df_test)+ len(df_dev)))\n",
    "    print(\"df_train:\", len(df_train))\n",
    "    print(\"df_test:\", len(df_test))\n",
    "    print(\"df_dev:\", len(df_dev))\n",
    "    print(\"_____________________\")\n",
    "    df_train.to_csv(train_path, index=False)\n",
    "    df_test.to_csv(test_path, index=False)\n",
    "    df_dev.to_csv(dev_path, index=False)\n"
   ]
  },
  {
   "cell_type": "markdown",
   "metadata": {},
   "source": [
    "## dataset each file count\n"
   ]
  },
  {
   "cell_type": "code",
   "execution_count": 4,
   "metadata": {},
   "outputs": [],
   "source": [
    "import os, glob\n",
    "import pandas as pd"
   ]
  },
  {
   "cell_type": "code",
   "execution_count": 5,
   "metadata": {},
   "outputs": [],
   "source": [
    "datasets = ['Mizan', 'PEPC_Bidirectional', 'PEPC_Onedirectional', 'TEP', 'TEP++', 'OpenSubtitles', 'Bible', 'Quran', 'ParsiNLU']\n",
    "root = './data/'\n",
    "\n",
    "df = pd.DataFrame({})\n",
    "for d in datasets:\n",
    "    paths = glob.glob('{}/{}/*'.format(root, d))\n",
    "\n",
    "    train_path = '{}/{}/train.csv'.format(root, d)\n",
    "    test_path = '{}/{}/test.csv'.format(root, d)\n",
    "    dev_path = '{}/{}/dev.csv'.format(root, d)\n",
    "    \n",
    "    df_train = pd.read_csv(train_path)\n",
    "    df_test = pd.read_csv(test_path)\n",
    "    df_dev = pd.read_csv(dev_path)\n",
    "   \n",
    "    line ={'datasets': d,\n",
    "            'train': int(len(df_train)),\n",
    "            'dev': int(len(df_dev)),\n",
    "            'test': int(len(df_test)),\n",
    "            'all': int(len(df_train)) + int(len(df_dev)) + int(len(df_test))}\n",
    "\n",
    "    df = df.append(line, ignore_index=True)\n",
    "    # break\n",
    "\n",
    "df.to_csv('dataset_info.csv', index=False)\n"
   ]
  },
  {
   "cell_type": "markdown",
   "metadata": {},
   "source": [
    "## parsiNLU"
   ]
  },
  {
   "cell_type": "code",
   "execution_count": 9,
   "metadata": {},
   "outputs": [],
   "source": [
    "import pandas as pd"
   ]
  },
  {
   "cell_type": "code",
   "execution_count": 10,
   "metadata": {},
   "outputs": [],
   "source": [
    "dir_en_fa = './data/ParsiNLU/en-fa/'\n",
    "dir_fa_en = './data/ParsiNLU/fa-en/'"
   ]
  },
  {
   "cell_type": "code",
   "execution_count": 15,
   "metadata": {},
   "outputs": [],
   "source": [
    "df_fa_en_train = pd.read_csv(dir_fa_en+'train.tsv', sep='\\t', on_bad_lines='skip')\n",
    "df_fa_en_dev = pd.read_csv(dir_fa_en+'dev.tsv', sep='\\t', on_bad_lines='skip')\n",
    "df_fa_en_test = pd.read_csv(dir_fa_en+'test.tsv', sep='\\t',on_bad_lines='skip')"
   ]
  },
  {
   "cell_type": "code",
   "execution_count": 37,
   "metadata": {},
   "outputs": [],
   "source": [
    "df_en_fa_train = pd.read_csv(dir_en_fa+'train.tsv', sep='\\t', on_bad_lines='skip', names=['en', 'fa', 'src'])\n",
    "df_en_fa_dev = pd.read_csv(dir_en_fa+'dev.tsv', sep='\\t', on_bad_lines='skip', names=['en', 'fa', 'src'])\n",
    "df_en_fa_test = pd.read_csv(dir_en_fa+'test.tsv', sep='\\t',on_bad_lines='skip', names=['en', 'fa', 'src'])"
   ]
  },
  {
   "cell_type": "code",
   "execution_count": 39,
   "metadata": {},
   "outputs": [],
   "source": [
    "df_en_fa_train[['en', 'fa']].to_csv('./data/ParsiNLU/train.csv', index=False)\n",
    "df_en_fa_dev[['en', 'fa']].to_csv('./data/ParsiNLU/dev.csv', index=False)\n",
    "df_en_fa_test[['en', 'fa']].to_csv('./data/ParsiNLU/test.csv', index=False)"
   ]
  },
  {
   "cell_type": "code",
   "execution_count": 41,
   "metadata": {},
   "outputs": [],
   "source": [
    "pd.concat([df_en_fa_train, df_en_fa_dev, df_en_fa_test])[['en', 'fa']].to_csv(\"./data/ParsiNLU/en-fa.csv\", index=False)"
   ]
  },
  {
   "cell_type": "markdown",
   "metadata": {},
   "source": [
    "## get experiment results"
   ]
  },
  {
   "cell_type": "code",
   "execution_count": 1,
   "metadata": {},
   "outputs": [],
   "source": [
    "import os, glob\n",
    "import pandas as pd\n",
    "\n",
    "gzs_1 = './outs/.*'\n",
    "gzs_2 = './outs/*'\n",
    "paths = glob.glob(gzs_1) + glob.glob(gzs_2)\n",
    "\n",
    "\n",
    "cols = ['data', 'mt5-small', 'mt5-base', 'mt5-large',  'distilled-600M','distilled-1.3B']\n",
    "\n",
    "datasets = ['Mizan', 'Bidirectional', 'Onedirectional', 'TEP', 'TEP++', 'Quran', 'Bible',  \"ParsiNLU\", \"OpenSubtitles\"]\n",
    "\n",
    "info_en_fa = {}\n",
    "info_fa_en = {} \n",
    "for c in cols[1:]:\n",
    "    info_en_fa[c] = {}\n",
    "    info_fa_en[c] = {}\n",
    "    for d in datasets:\n",
    "        info_en_fa[c][d] = -1\n",
    "        info_fa_en[c][d] = -1"
   ]
  },
  {
   "cell_type": "code",
   "execution_count": null,
   "metadata": {},
   "outputs": [],
   "source": [
    "for p in paths:\n",
    "    model = p.split(\"\\\\\")[1].split('_')[0]\n",
    "    model = '-'.join(model.split('-')[-2:])\n",
    "    dataset = p.split(\"\\\\\")[1].split('_')[-4]\n",
    "    way = '{}_{}'.format(p.split(\"\\\\\")[1].split('_')[-3],p.split(\"\\\\\")[1].split('_')[-2])\n",
    "    df = pd.read_csv(p + '/bl_score_{}.csv'.format(way))\n",
    "    score = df['blue_score'].values[0] * 100\n",
    "\n",
    "    if way == 'fa_en':\n",
    "        info_fa_en[model][dataset] = score\n",
    "    else:\n",
    "        info_en_fa[model][dataset] = score\n",
    "\n",
    "\n",
    "\n",
    "df_en_fa = pd.DataFrame(info_en_fa)\n",
    "df_fa_en = pd.DataFrame(info_fa_en)\n",
    "\n",
    "df_en_fa['dataset'] = list(info_en_fa ['mt5-small'].keys())\n",
    "df_fa_en['dataset'] = list(info_en_fa ['mt5-small'].keys())\n",
    "\n",
    "cols = df_en_fa.columns.tolist()\n",
    "cols = cols[-1:] + cols[:-1]\n",
    "\n",
    "df_en_fa = df_en_fa[cols]\n",
    "df_fa_en = df_fa_en[cols]\n",
    "\n",
    "df_f = pd.concat([df_en_fa, df_fa_en.reindex(df_en_fa.index)], axis=1)\n",
    "\n",
    "df_en_fa.to_csv(\"./en_fa.csv\", index=False)\n",
    "df_fa_en.to_csv(\"./fa_en.csv\", index=False)\n",
    "\n",
    "df_f.drop(columns=['dataset'], inplace=True)\n",
    "df_f.to_csv(\"./final.csv\")"
   ]
  },
  {
   "cell_type": "markdown",
   "metadata": {},
   "source": [
    "## generate different bleu scores"
   ]
  },
  {
   "cell_type": "code",
   "execution_count": 3,
   "metadata": {},
   "outputs": [],
   "source": [
    "import os, glob\n",
    "import pandas as pd\n",
    "from torchmetrics.functional import sacre_bleu_score\n",
    " \n",
    "gzs_1 = './outs_d1/.*'\n",
    "gzs_2 = './outs_d1/*'\n",
    "paths = glob.glob(gzs_1) + glob.glob(gzs_2)\n",
    "\n",
    "def get_blue_score(df_test, predicted_target, max_n, tar):\n",
    "    target = list(df_test[tar].values)[:len(predicted_target)]\n",
    "    real_target = [[sent] for sent in target]\n",
    "    bl_score = sacre_bleu_score(predicted_target, real_target, n_gram=max_n)\n",
    "    return bl_score.item()\n"
   ]
  },
  {
   "cell_type": "code",
   "execution_count": 25,
   "metadata": {},
   "outputs": [
    {
     "name": "stdout",
     "output_type": "stream",
     "text": [
      "fa_en\n",
      "./outs\\.-google-mt5-small_Bible_fa_en_7/predicted_fa_en.csv\n"
     ]
    }
   ],
   "source": [
    "\n",
    "import numpy as np\n",
    "import seaborn as sns\n",
    "import matplotlib.pyplot as plt\n",
    "sns.set_theme(color_codes=True)\n",
    "tips = sns.load_dataset(\"tips\")\n",
    "\n",
    "\n",
    "datasets = ['Mizan', 'PEPC_Bidirectional', 'PEPC_Onedirectional', 'TEP', 'TEP++', 'Quran', 'Bible',  \"ParsiNLU\", \"OpenSubtitles\"]\n",
    "\n",
    "gzs_1 = './outs_d1/*'\n",
    "gzs_2 = './outs_d1/.*'\n",
    "\n",
    "# gzs_1 = './outs/*'\n",
    "# gzs_2 = './outs/.*'\n",
    "\n",
    "ngrams = [3, 4, 5, 6, 7]\n",
    "data_dir = './data_d1/'\n",
    "out_dir = './ngrams'\n",
    "\n",
    "paths = glob.glob(gzs_1) + glob.glob(gzs_2)\n",
    "\n",
    "for d in datasets:\n",
    "    each_bl_pathes = []\n",
    "    df_en_fa = []\n",
    "    df_fa_en = []\n",
    "    os.makedirs(\"{}/{}/\".format(out_dir, d), exist_ok=True)\n",
    "\n",
    "    for p in paths:\n",
    "        if d in p:\n",
    "            each_bl_pathes.append(p)\n",
    "    \n",
    "    \n",
    "    for p in each_bl_pathes:\n",
    "        model = p.split(\"\\\\\")[1].split('_')[0]\n",
    "        model = '-'.join(model.split('-')[-2:])\n",
    "        way = '{}_{}'.format(p.split(\"\\\\\")[1].split('_')[-3],p.split(\"\\\\\")[1].split('_')[-2])\n",
    "        target = p.split(\"\\\\\")[1].split('_')[-2]\n",
    "\n",
    "        data = pd.read_csv(data_dir + d + '/test.csv')\n",
    "        predicted = pd.read_csv(p + '/predicted_{}.csv'.format(way))\n",
    "   \n",
    "        for max_n in ngrams:\n",
    "            bl_score = get_blue_score(data, predicted['predicted'].values, max_n, target)\n",
    "\n",
    "            if way == 'en_fa':\n",
    "                a = {\"model\": model, \"score\": bl_score * 100, 'n_gram':max_n}\n",
    "                df_en_fa.append(a) \n",
    "            if way =='fa_en':\n",
    "                a = {\"model\": model, \"score\": bl_score * 100, 'n_gram':max_n}\n",
    "                df_fa_en.append(a) \n",
    "\n",
    "    df_en_fa = pd.DataFrame(df_en_fa)\n",
    "    df_fa_en = pd.DataFrame(df_fa_en)\n",
    "\n",
    "    if len(df_en_fa) != 0:\n",
    "        df_en_fa.to_csv('{}/{}/en-fa-ngrams.csv'.format(out_dir, d), index=False)\n",
    "        fig = plt.figure()\n",
    "        sns.factorplot(x='n_gram', y='score', hue='model', data=df_en_fa, kind='bar')\n",
    "        fig.savefig('{}/{}/en-fa-ngrams.png'.format(out_dir, d)) \n",
    "\n",
    "    if len(df_fa_en) != 0:\n",
    "        df_fa_en.to_csv('{}/{}/fa-en-ngrams.csv'.format(out_dir, d), index=False)\n",
    "        fig = plt.figure()\n",
    "        sns.factorplot(x='n_gram', y='score', hue='model', data=df_fa_en, kind='bar')\n",
    "        fig.savefig('{}/{}/fa-en-ngrams.png'.format(out_dir, d))"
   ]
  },
  {
   "cell_type": "markdown",
   "metadata": {},
   "source": [
    "## generate each bleu score\n"
   ]
  },
  {
   "cell_type": "code",
   "execution_count": null,
   "metadata": {},
   "outputs": [],
   "source": [
    "import os, glob\n",
    "import pandas as pd\n",
    "from torchmetrics.functional import sacre_bleu_score\n",
    "\n",
    "import numpy as np\n",
    "import seaborn as sns\n",
    "import matplotlib.pyplot as plt\n",
    "sns.set_theme(color_codes=True)\n",
    "tips = sns.load_dataset(\"tips\")\n",
    "\n",
    "\n",
    "\n",
    "\n",
    "datasets = ['Mizan', 'Bidirectional', 'Onedirectional', 'TEP', 'TEP++', 'Quran', 'Bible',  \"ParsiNLU\", \"OpenSubtitles\"]\n",
    "\n",
    "# gzs_1 = './outs_d1/*'\n",
    "# gzs_2 = './outs_d1/.*'\n",
    "\n",
    "gzs_1 = './outs/*'\n",
    "gzs_2 = './outs/.*'\n",
    "\n",
    "out_dir = './each_bl'\n",
    "\n",
    "paths = glob.glob(gzs_1) + glob.glob(gzs_2)\n",
    "\n",
    "for d in datasets:\n",
    "    each_bl_pathes = []\n",
    "    df_en_fa = {}\n",
    "    df_fa_en = {}\n",
    "    os.makedirs(\"{}/{}/\".format(out_dir, d), exist_ok=True)\n",
    "\n",
    "    for p in paths:\n",
    "        if d in p:\n",
    "            each_bl_pathes.append(p)\n",
    "    \n",
    "    \n",
    "    for p in each_bl_pathes:\n",
    "        model = p.split(\"\\\\\")[1].split('_')[0]\n",
    "        model = '-'.join(model.split('-')[-2:])\n",
    "        way = '{}-{}'.format(p.split(\"\\\\\")[1].split('_')[-3],p.split(\"\\\\\")[1].split('_')[-2])\n",
    "        blue_scores = pd.read_csv(p + '/each_bl_score.csv')['blue_score'].values * 100\n",
    "        \n",
    "        if way == 'en-fa':\n",
    "            df_en_fa[model] = blue_scores\n",
    "        if way =='fa-en':\n",
    "            df_fa_en[model] = blue_scores\n",
    "\n",
    "    df_en_fa = pd.DataFrame(df_en_fa)\n",
    "    df_fa_en = pd.DataFrame(df_fa_en)\n",
    "    \n",
    "    if len(df_en_fa) != 0:\n",
    "        df_en_fa.to_csv('{}/{}/en-fa-bls.csv'.format(out_dir, d), index=False)\n",
    "        df_en_fa = df_en_fa.set_index(np.arange(1, 8))\n",
    "        fig = plt.figure()\n",
    "        sns.lineplot(data=df_en_fa, markers=True, dashes=False)\n",
    "        fig.savefig('{}/{}/en-fa-bls.png'.format(out_dir, d)) \n",
    "\n",
    "    if len(df_fa_en) != 0:\n",
    "        df_fa_en.to_csv('{}/{}/fa-en-bls.csv'.format(out_dir, d), index=False)\n",
    "        df_fa_en = df_fa_en.set_index(np.arange(1, 8))\n",
    "        fig = plt.figure()\n",
    "        sns.lineplot(data=df_fa_en, markers=True, dashes=False)\n",
    "        fig.savefig('{}/{}/fa-en-bls.png'.format(out_dir, d))"
   ]
  }
 ],
 "metadata": {
  "interpreter": {
   "hash": "008b0f992822207dc3371086db865f2e3d549e6d0b94b092d243da12ff3366e0"
  },
  "kernelspec": {
   "display_name": "Python 3.8.12 64-bit ('AI': conda)",
   "name": "python3"
  },
  "language_info": {
   "codemirror_mode": {
    "name": "ipython",
    "version": 3
   },
   "file_extension": ".py",
   "mimetype": "text/x-python",
   "name": "python",
   "nbconvert_exporter": "python",
   "pygments_lexer": "ipython3",
   "version": "3.8.12"
  },
  "orig_nbformat": 4
 },
 "nbformat": 4,
 "nbformat_minor": 2
}
